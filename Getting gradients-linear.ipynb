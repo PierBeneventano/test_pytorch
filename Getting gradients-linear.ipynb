{
 "cells": [
  {
   "cell_type": "code",
   "execution_count": 2,
   "metadata": {},
   "outputs": [],
   "source": [
    "import torch\n",
    "import torch.nn.functional as F\n",
    "import torchvision\n",
    "import torchvision.transforms as transforms\n",
    "\n",
    "import matplotlib as mpl\n",
    "import numpy as np\n",
    "import matplotlib.pyplot as plt\n",
    "from models import *"
   ]
  },
  {
   "cell_type": "code",
   "execution_count": 3,
   "metadata": {},
   "outputs": [
    {
     "ename": "FileNotFoundError",
     "evalue": "[Errno 2] No such file or directory: 'tiger_files/pb29/checkpoint/final/synthetic_linear_net/epoch_100-label_noise_prob_0-input_gaussian_noise_SD_0-gaussian_noise_SD_0-noise_decay_fixed-batch_size_64-lr_1.0.pt'",
     "output_type": "error",
     "traceback": [
      "\u001b[1;31m---------------------------------------------------------------------------\u001b[0m",
      "\u001b[1;31mFileNotFoundError\u001b[0m                         Traceback (most recent call last)",
      "\u001b[1;32m<ipython-input-3-1cc2201c772c>\u001b[0m in \u001b[0;36m<module>\u001b[1;34m\u001b[0m\n\u001b[1;32m----> 1\u001b[1;33m \u001b[0ma\u001b[0m \u001b[1;33m=\u001b[0m \u001b[0mtorch\u001b[0m\u001b[1;33m.\u001b[0m\u001b[0mload\u001b[0m\u001b[1;33m(\u001b[0m\u001b[1;34m'tiger_files/pb29/checkpoint/final/synthetic_linear_net/epoch_100-label_noise_prob_0-input_gaussian_noise_SD_0-gaussian_noise_SD_0-noise_decay_fixed-batch_size_64-lr_1.0.pt'\u001b[0m\u001b[1;33m,\u001b[0m \u001b[0mmap_location\u001b[0m \u001b[1;33m=\u001b[0m\u001b[1;34m'cpu'\u001b[0m\u001b[1;33m)\u001b[0m\u001b[1;33m\u001b[0m\u001b[1;33m\u001b[0m\u001b[0m\n\u001b[0m\u001b[0;32m      2\u001b[0m \u001b[1;33m\u001b[0m\u001b[0m\n\u001b[0;32m      3\u001b[0m \u001b[0mb\u001b[0m \u001b[1;33m=\u001b[0m \u001b[0mtorch\u001b[0m\u001b[1;33m.\u001b[0m\u001b[0mload\u001b[0m\u001b[1;33m(\u001b[0m\u001b[1;34m'tiger_files/pb29/checkpoint/final/synthetic_linear_net/epoch_100-label_noise_prob_0-input_gaussian_noise_SD_0.1-gaussian_noise_SD_0-noise_decay_fixed-batch_size_1024-lr_1.0.pt'\u001b[0m\u001b[1;33m,\u001b[0m \u001b[0mmap_location\u001b[0m \u001b[1;33m=\u001b[0m\u001b[1;34m'cpu'\u001b[0m\u001b[1;33m)\u001b[0m\u001b[1;33m\u001b[0m\u001b[1;33m\u001b[0m\u001b[0m\n\u001b[0;32m      4\u001b[0m \u001b[1;33m\u001b[0m\u001b[0m\n\u001b[0;32m      5\u001b[0m \u001b[0mc\u001b[0m \u001b[1;33m=\u001b[0m \u001b[0mtorch\u001b[0m\u001b[1;33m.\u001b[0m\u001b[0mload\u001b[0m\u001b[1;33m(\u001b[0m\u001b[1;34m'tiger_files/pb29/checkpoint/final/synthetic_linear_net/epoch_100-label_noise_prob_0.5-input_gaussian_noise_SD_0-gaussian_noise_SD_0-noise_decay_fixed-batch_size_1024-lr_1.0.pt'\u001b[0m\u001b[1;33m,\u001b[0m \u001b[0mmap_location\u001b[0m \u001b[1;33m=\u001b[0m\u001b[1;34m'cpu'\u001b[0m\u001b[1;33m)\u001b[0m\u001b[1;33m\u001b[0m\u001b[1;33m\u001b[0m\u001b[0m\n",
      "\u001b[1;32m~\\anaconda3\\lib\\site-packages\\torch\\serialization.py\u001b[0m in \u001b[0;36mload\u001b[1;34m(f, map_location, pickle_module, **pickle_load_args)\u001b[0m\n\u001b[0;32m    577\u001b[0m         \u001b[0mpickle_load_args\u001b[0m\u001b[1;33m[\u001b[0m\u001b[1;34m'encoding'\u001b[0m\u001b[1;33m]\u001b[0m \u001b[1;33m=\u001b[0m \u001b[1;34m'utf-8'\u001b[0m\u001b[1;33m\u001b[0m\u001b[1;33m\u001b[0m\u001b[0m\n\u001b[0;32m    578\u001b[0m \u001b[1;33m\u001b[0m\u001b[0m\n\u001b[1;32m--> 579\u001b[1;33m     \u001b[1;32mwith\u001b[0m \u001b[0m_open_file_like\u001b[0m\u001b[1;33m(\u001b[0m\u001b[0mf\u001b[0m\u001b[1;33m,\u001b[0m \u001b[1;34m'rb'\u001b[0m\u001b[1;33m)\u001b[0m \u001b[1;32mas\u001b[0m \u001b[0mopened_file\u001b[0m\u001b[1;33m:\u001b[0m\u001b[1;33m\u001b[0m\u001b[1;33m\u001b[0m\u001b[0m\n\u001b[0m\u001b[0;32m    580\u001b[0m         \u001b[1;32mif\u001b[0m \u001b[0m_is_zipfile\u001b[0m\u001b[1;33m(\u001b[0m\u001b[0mopened_file\u001b[0m\u001b[1;33m)\u001b[0m\u001b[1;33m:\u001b[0m\u001b[1;33m\u001b[0m\u001b[1;33m\u001b[0m\u001b[0m\n\u001b[0;32m    581\u001b[0m             \u001b[1;31m# The zipfile reader is going to advance the current file position.\u001b[0m\u001b[1;33m\u001b[0m\u001b[1;33m\u001b[0m\u001b[1;33m\u001b[0m\u001b[0m\n",
      "\u001b[1;32m~\\anaconda3\\lib\\site-packages\\torch\\serialization.py\u001b[0m in \u001b[0;36m_open_file_like\u001b[1;34m(name_or_buffer, mode)\u001b[0m\n\u001b[0;32m    228\u001b[0m \u001b[1;32mdef\u001b[0m \u001b[0m_open_file_like\u001b[0m\u001b[1;33m(\u001b[0m\u001b[0mname_or_buffer\u001b[0m\u001b[1;33m,\u001b[0m \u001b[0mmode\u001b[0m\u001b[1;33m)\u001b[0m\u001b[1;33m:\u001b[0m\u001b[1;33m\u001b[0m\u001b[1;33m\u001b[0m\u001b[0m\n\u001b[0;32m    229\u001b[0m     \u001b[1;32mif\u001b[0m \u001b[0m_is_path\u001b[0m\u001b[1;33m(\u001b[0m\u001b[0mname_or_buffer\u001b[0m\u001b[1;33m)\u001b[0m\u001b[1;33m:\u001b[0m\u001b[1;33m\u001b[0m\u001b[1;33m\u001b[0m\u001b[0m\n\u001b[1;32m--> 230\u001b[1;33m         \u001b[1;32mreturn\u001b[0m \u001b[0m_open_file\u001b[0m\u001b[1;33m(\u001b[0m\u001b[0mname_or_buffer\u001b[0m\u001b[1;33m,\u001b[0m \u001b[0mmode\u001b[0m\u001b[1;33m)\u001b[0m\u001b[1;33m\u001b[0m\u001b[1;33m\u001b[0m\u001b[0m\n\u001b[0m\u001b[0;32m    231\u001b[0m     \u001b[1;32melse\u001b[0m\u001b[1;33m:\u001b[0m\u001b[1;33m\u001b[0m\u001b[1;33m\u001b[0m\u001b[0m\n\u001b[0;32m    232\u001b[0m         \u001b[1;32mif\u001b[0m \u001b[1;34m'w'\u001b[0m \u001b[1;32min\u001b[0m \u001b[0mmode\u001b[0m\u001b[1;33m:\u001b[0m\u001b[1;33m\u001b[0m\u001b[1;33m\u001b[0m\u001b[0m\n",
      "\u001b[1;32m~\\anaconda3\\lib\\site-packages\\torch\\serialization.py\u001b[0m in \u001b[0;36m__init__\u001b[1;34m(self, name, mode)\u001b[0m\n\u001b[0;32m    209\u001b[0m \u001b[1;32mclass\u001b[0m \u001b[0m_open_file\u001b[0m\u001b[1;33m(\u001b[0m\u001b[0m_opener\u001b[0m\u001b[1;33m)\u001b[0m\u001b[1;33m:\u001b[0m\u001b[1;33m\u001b[0m\u001b[1;33m\u001b[0m\u001b[0m\n\u001b[0;32m    210\u001b[0m     \u001b[1;32mdef\u001b[0m \u001b[0m__init__\u001b[0m\u001b[1;33m(\u001b[0m\u001b[0mself\u001b[0m\u001b[1;33m,\u001b[0m \u001b[0mname\u001b[0m\u001b[1;33m,\u001b[0m \u001b[0mmode\u001b[0m\u001b[1;33m)\u001b[0m\u001b[1;33m:\u001b[0m\u001b[1;33m\u001b[0m\u001b[1;33m\u001b[0m\u001b[0m\n\u001b[1;32m--> 211\u001b[1;33m         \u001b[0msuper\u001b[0m\u001b[1;33m(\u001b[0m\u001b[0m_open_file\u001b[0m\u001b[1;33m,\u001b[0m \u001b[0mself\u001b[0m\u001b[1;33m)\u001b[0m\u001b[1;33m.\u001b[0m\u001b[0m__init__\u001b[0m\u001b[1;33m(\u001b[0m\u001b[0mopen\u001b[0m\u001b[1;33m(\u001b[0m\u001b[0mname\u001b[0m\u001b[1;33m,\u001b[0m \u001b[0mmode\u001b[0m\u001b[1;33m)\u001b[0m\u001b[1;33m)\u001b[0m\u001b[1;33m\u001b[0m\u001b[1;33m\u001b[0m\u001b[0m\n\u001b[0m\u001b[0;32m    212\u001b[0m \u001b[1;33m\u001b[0m\u001b[0m\n\u001b[0;32m    213\u001b[0m     \u001b[1;32mdef\u001b[0m \u001b[0m__exit__\u001b[0m\u001b[1;33m(\u001b[0m\u001b[0mself\u001b[0m\u001b[1;33m,\u001b[0m \u001b[1;33m*\u001b[0m\u001b[0margs\u001b[0m\u001b[1;33m)\u001b[0m\u001b[1;33m:\u001b[0m\u001b[1;33m\u001b[0m\u001b[1;33m\u001b[0m\u001b[0m\n",
      "\u001b[1;31mFileNotFoundError\u001b[0m: [Errno 2] No such file or directory: 'tiger_files/pb29/checkpoint/final/synthetic_linear_net/epoch_100-label_noise_prob_0-input_gaussian_noise_SD_0-gaussian_noise_SD_0-noise_decay_fixed-batch_size_64-lr_1.0.pt'"
     ]
    }
   ],
   "source": [
    "a = torch.load('tiger_files/pb29/checkpoint/final/synthetic_linear_net/epoch_100-label_noise_prob_0-input_gaussian_noise_SD_0-gaussian_noise_SD_0-noise_decay_fixed-batch_size_64-lr_1.0.pt', map_location ='cpu')\n",
    "\n",
    "b = torch.load('tiger_files/pb29/checkpoint/final/synthetic_linear_net/epoch_100-label_noise_prob_0-input_gaussian_noise_SD_0.1-gaussian_noise_SD_0-noise_decay_fixed-batch_size_1024-lr_1.0.pt', map_location ='cpu')\n",
    "\n",
    "c = torch.load('tiger_files/pb29/checkpoint/final/synthetic_linear_net/epoch_100-label_noise_prob_0.5-input_gaussian_noise_SD_0-gaussian_noise_SD_0-noise_decay_fixed-batch_size_1024-lr_1.0.pt', map_location ='cpu')\n"
   ]
  },
  {
   "cell_type": "code",
   "execution_count": 242,
   "metadata": {},
   "outputs": [
    {
     "name": "stdout",
     "output_type": "stream",
     "text": [
      "test accuracy: 93.38 93.3 93.24 93.24 \n",
      "\n",
      "train loss: 0.00047144899773411453 5.409846894443035e-05 5.4453286528587344e-05 5.4453286528587344e-05\n"
     ]
    },
    {
     "data": {
      "text/plain": [
       "array([1.56113539e-03, 7.76631186e-04, 4.92490997e-04, 3.05009220e-04,\n",
       "       2.15986606e-04, 1.64189123e-04, 1.27213410e-04, 1.02378166e-04,\n",
       "       8.61140871e-05, 7.55930267e-05, 6.87292631e-05, 6.42283860e-05,\n",
       "       6.11566780e-05, 5.90822563e-05, 5.76872594e-05, 5.67138229e-05,\n",
       "       5.60344432e-05, 5.55450813e-05, 5.52417620e-05, 5.50031097e-05,\n",
       "       5.48555612e-05, 5.47040592e-05, 5.46435162e-05, 5.45741238e-05,\n",
       "       5.45588640e-05, 5.45102639e-05, 5.45015695e-05, 5.45059320e-05,\n",
       "       5.45077774e-05, 5.44648647e-05, 5.44530027e-05, 5.44817776e-05,\n",
       "       5.44316308e-05, 5.44571171e-05, 5.44557696e-05, 5.44463085e-05,\n",
       "       5.44618661e-05, 5.44777519e-05, 5.44546200e-05, 5.44550738e-05,\n",
       "       5.44552144e-05, 5.44666515e-05, 5.44510375e-05, 5.44760531e-05,\n",
       "       5.44481783e-05, 5.44616294e-05, 5.44500281e-05, 5.44498847e-05,\n",
       "       5.44449830e-05, 5.44553773e-05, 5.44531452e-05, 5.44687558e-05,\n",
       "       5.44504493e-05, 5.44613873e-05, 5.44573379e-05, 5.44745535e-05,\n",
       "       5.44477186e-05, 5.44611344e-05, 5.44714490e-05, 5.44344895e-05,\n",
       "       5.44719308e-05, 5.44679943e-05, 5.44537772e-05, 5.44457143e-05,\n",
       "       5.44577678e-05, 5.44483604e-05, 5.44516371e-05, 5.44643261e-05,\n",
       "       5.44630616e-05, 5.44612880e-05, 5.44694862e-05, 5.44771700e-05,\n",
       "       5.44596975e-05, 5.44397748e-05, 5.44627827e-05, 5.44774415e-05,\n",
       "       5.44534247e-05, 5.44629643e-05, 5.44580656e-05, 5.44702216e-05,\n",
       "       5.44384158e-05, 5.44608991e-05, 5.44906468e-05, 5.44607049e-05,\n",
       "       5.44781500e-05, 5.44392572e-05, 5.44392406e-05, 5.44545300e-05,\n",
       "       5.44552965e-05, 5.44778603e-05, 5.44624044e-05, 5.44700074e-05,\n",
       "       5.44450497e-05, 5.44401757e-05, 5.44552352e-05, 5.44618609e-05,\n",
       "       5.44375123e-05, 5.44758358e-05, 5.44558167e-05, 5.44532865e-05])"
      ]
     },
     "execution_count": 242,
     "metadata": {},
     "output_type": "execute_result"
    }
   ],
   "source": [
    "print('test accuracy:', a['test_acc_array'][-1], b['test_acc_array'][-1], c['test_acc_array'][-1], d['test_acc_array'][-1], '\\n')\n",
    "print('train loss:', a['train_loss_array'][-1], b['train_loss_array'][-1], c['train_loss_array'][-1], d['train_loss_array'][-1])\n",
    "\n",
    "c['train_loss_array']"
   ]
  },
  {
   "cell_type": "code",
   "execution_count": 206,
   "metadata": {
    "scrolled": true
   },
   "outputs": [],
   "source": [
    "# # Loading the nets\n",
    "\n",
    "# net1 = VGG('VGG19')\n",
    "# net1.load_state_dict(a['net'], strict=False)\n",
    "# net1.eval()\n",
    "\n",
    "# net2 = VGG('VGG19')\n",
    "# net2.load_state_dict(b['net'], strict=False)\n",
    "# net2.eval()"
   ]
  },
  {
   "cell_type": "code",
   "execution_count": 207,
   "metadata": {},
   "outputs": [
    {
     "data": {
      "text/plain": [
       "Linear_mnist(\n",
       "  (l1): Linear(in_features=784, out_features=512, bias=True)\n",
       "  (l2): Linear(in_features=512, out_features=512, bias=True)\n",
       "  (l3): Linear(in_features=512, out_features=256, bias=True)\n",
       "  (l4): Linear(in_features=256, out_features=256, bias=True)\n",
       "  (l5): Linear(in_features=256, out_features=128, bias=True)\n",
       "  (l6): Linear(in_features=128, out_features=10, bias=True)\n",
       ")"
      ]
     },
     "execution_count": 207,
     "metadata": {},
     "output_type": "execute_result"
    }
   ],
   "source": [
    "# Loading the nets\n",
    "\n",
    "class Linear_mnist(nn.Module):\n",
    "    def __init__(self):\n",
    "        super(Linear_mnist, self).__init__()\n",
    "        self.l1 = nn.Linear(784, 512)\n",
    "        self.l2 = nn.Linear(512, 512)\n",
    "        self.l3 = nn.Linear(512, 256)\n",
    "        self.l4 = nn.Linear(256, 256)\n",
    "        self.l5 = nn.Linear(256, 128)\n",
    "        self.l6 = nn.Linear(128, 10)\n",
    "\n",
    "    def forward(self, x):\n",
    "        x = self.l1(x)\n",
    "        # x = F.relu(x)\n",
    "        x = self.l2(x)\n",
    "        # x = F.relu(x)\n",
    "        # x = F.max_pool2d(x, 2)\n",
    "        # x = self.dropout1(x)\n",
    "        # x = torch.flatten(x, 1)\n",
    "        # x = self.fc1(x)\n",
    "        # x = F.relu(x)\n",
    "        # x = self.dropout2(x)\n",
    "        x = self.l3(x)\n",
    "        x = self.l4(x)\n",
    "        x = self.l5(x)\n",
    "        x = self.l6(x)\n",
    "        output = F.log_softmax(x, dim=0)\n",
    "        return output\n",
    "\n",
    "\n",
    "net1 = Linear_mnist()\n",
    "net1.load_state_dict(a['net'], strict=False)\n",
    "net1.eval()\n",
    "\n",
    "net2 = Linear_mnist()\n",
    "net2.load_state_dict(b['net'], strict=False)\n",
    "net2.eval()\n",
    "\n",
    "net3 = Linear_mnist()\n",
    "net3.load_state_dict(c['net'], strict=False)\n",
    "net3.eval()"
   ]
  },
  {
   "cell_type": "code",
   "execution_count": 208,
   "metadata": {},
   "outputs": [],
   "source": [
    "# loading the data\n",
    "\n",
    "class LinearNetData(torch.utils.data.Dataset):\n",
    "    def __init__(self, list_IDs, labels, inputs):\n",
    "        'Initialization'\n",
    "        self.labels = labels\n",
    "        self.list_IDs = list_IDs\n",
    "        self.inputs = inputs\n",
    "    \n",
    "    def __len__(self):\n",
    "        'Denotes the total number of samples'\n",
    "        return len(self.list_IDs)\n",
    "    \n",
    "    def __getitem__(self, index):\n",
    "        'Generates one sample of data'\n",
    "        # Select sample\n",
    "        ID = self.list_IDs[index]\n",
    "\n",
    "        # Load data and get label\n",
    "        X = self.inputs[ID]\n",
    "        y = self.labels[ID]\n",
    "\n",
    "\n",
    "\n",
    "dataset1 = torch.load('data/synthetic_linear_net/training.pt')\n",
    "dataset2 = torch.load('data/synthetic_linear_net/test.pt')\n",
    "\n",
    "\n",
    "# plot 6 examples of data point\n",
    "# a.shape\n",
    "\n",
    "# for i in range(3):\n",
    "#   print('the min entry in the example', i , 'is', torch.min(example_data[i][0]))\n",
    "#   print('the max entry in the example', i , 'is', torch.max(example_data[i][0]))\n",
    "\n",
    "# fig = plt.figure()\n",
    "# for i in range(3):\n",
    "#   plt.subplot(2,3,i+1)\n",
    "#   plt.tight_layout()\n",
    "#   plt.imshow(example_data[i][0], cmap='gray', interpolation='none')\n",
    "#   plt.title(\"Ground Truth: {}\".format(example_targets[i]))\n",
    "#   plt.xticks([])\n",
    "#   plt.yticks([])\n",
    "# fig\n",
    "\n",
    "# a.size()"
   ]
  },
  {
   "cell_type": "code",
   "execution_count": 209,
   "metadata": {},
   "outputs": [
    {
     "name": "stdout",
     "output_type": "stream",
     "text": [
      "tensor([-6.2085e+01, -5.6835e-02, -4.1429e+01, -1.1729e+01, -7.1978e+01,\n",
      "        -4.3244e+01, -2.8960e+00, -1.7896e+01, -2.0145e+01, -4.9749e+01],\n",
      "       grad_fn=<LogSoftmaxBackward>) tensor([-28.1846,  33.8436,  -7.5283,  22.1712, -38.0771,  -9.3434,  31.0044,\n",
      "         16.0045,  13.7551, -15.8483], grad_fn=<AddBackward0>)\n"
     ]
    }
   ],
   "source": [
    "x = dataset1.inputs[1]\n",
    "\n",
    "x=net1.l1(x)\n",
    "x=net1.l2(x)\n",
    "x=net1.l3(x)\n",
    "x=net1.l4(x)\n",
    "x=net1.l5(x)\n",
    "x=net1.l6(x)\n",
    "y = x\n",
    "x = F.log_softmax(x,0)\n",
    "\n",
    "print(x, y)"
   ]
  },
  {
   "cell_type": "code",
   "execution_count": 210,
   "metadata": {},
   "outputs": [],
   "source": [
    "Jac_1 = {}\n",
    "Jac_2 = {}\n",
    "Jac_3 = {}\n",
    "# Jac_diff = {}\n",
    "\n",
    "for i in range(1,21):\n",
    "    x = dataset1.inputs[i]\n",
    "    Jac_1[i] = torch.autograd.functional.jacobian(net1, x, create_graph = True)\n",
    "    Jac_2[i] = torch.autograd.functional.jacobian(net2, x, create_graph = True)\n",
    "    Jac_3[i] = torch.autograd.functional.jacobian(net3, x, create_graph = True)\n",
    "#     Jac_diff[i] = torch.autograd.functional.jacobian(net_diff, example_data[i:i+1,:,:,:], create_graph = True)"
   ]
  },
  {
   "cell_type": "code",
   "execution_count": 211,
   "metadata": {},
   "outputs": [],
   "source": [
    "# Jac_1[0] == Jac_2[0]"
   ]
  },
  {
   "cell_type": "code",
   "execution_count": 212,
   "metadata": {
    "scrolled": true
   },
   "outputs": [
    {
     "name": "stdout",
     "output_type": "stream",
     "text": [
      "on the datapoint 1 we have (1/2) tensor(1.5128, grad_fn=<DivBackward0>) \n",
      "\n",
      "on the datapoint 2 we have (1/2) tensor(1.4828, grad_fn=<DivBackward0>) \n",
      "\n",
      "on the datapoint 3 we have (1/2) tensor(1.4839, grad_fn=<DivBackward0>) \n",
      "\n",
      "on the datapoint 4 we have (1/2) tensor(1.4783, grad_fn=<DivBackward0>) \n",
      "\n",
      "on the datapoint 5 we have (1/2) tensor(1.4772, grad_fn=<DivBackward0>) \n",
      "\n",
      "on the datapoint 6 we have (1/2) tensor(1.4801, grad_fn=<DivBackward0>) \n",
      "\n",
      "on the datapoint 7 we have (1/2) tensor(1.4996, grad_fn=<DivBackward0>) \n",
      "\n",
      "on the datapoint 8 we have (1/2) tensor(1.4846, grad_fn=<DivBackward0>) \n",
      "\n",
      "on the datapoint 9 we have (1/2) tensor(1.4762, grad_fn=<DivBackward0>) \n",
      "\n",
      "on the datapoint 10 we have (1/2) tensor(1.4788, grad_fn=<DivBackward0>) \n",
      "\n",
      "on the datapoint 11 we have (1/2) tensor(1.4841, grad_fn=<DivBackward0>) \n",
      "\n",
      "on the datapoint 12 we have (1/2) tensor(1.4783, grad_fn=<DivBackward0>) \n",
      "\n",
      "on the datapoint 13 we have (1/2) tensor(1.4792, grad_fn=<DivBackward0>) \n",
      "\n",
      "on the datapoint 14 we have (1/2) tensor(1.4792, grad_fn=<DivBackward0>) \n",
      "\n",
      "on the datapoint 15 we have (1/2) tensor(1.6749, grad_fn=<DivBackward0>) \n",
      "\n",
      "on the datapoint 16 we have (1/2) tensor(1.5417, grad_fn=<DivBackward0>) \n",
      "\n",
      "on the datapoint 17 we have (1/2) tensor(1.4792, grad_fn=<DivBackward0>) \n",
      "\n",
      "on the datapoint 18 we have (1/2) tensor(1.4844, grad_fn=<DivBackward0>) \n",
      "\n",
      "on the datapoint 19 we have (1/2) tensor(1.4797, grad_fn=<DivBackward0>) \n",
      "\n",
      "on the datapoint 20 we have (1/2) tensor(1.4783, grad_fn=<DivBackward0>) \n",
      "\n",
      "on the datapoint 1 we have (1/3) tensor(1.5143, grad_fn=<DivBackward0>) \n",
      "\n",
      "on the datapoint 2 we have (1/3) tensor(1.4886, grad_fn=<DivBackward0>) \n",
      "\n",
      "on the datapoint 3 we have (1/3) tensor(1.4908, grad_fn=<DivBackward0>) \n",
      "\n",
      "on the datapoint 4 we have (1/3) tensor(1.4868, grad_fn=<DivBackward0>) \n",
      "\n",
      "on the datapoint 5 we have (1/3) tensor(1.4834, grad_fn=<DivBackward0>) \n",
      "\n",
      "on the datapoint 6 we have (1/3) tensor(1.4849, grad_fn=<DivBackward0>) \n",
      "\n",
      "on the datapoint 7 we have (1/3) tensor(1.4996, grad_fn=<DivBackward0>) \n",
      "\n",
      "on the datapoint 8 we have (1/3) tensor(1.4897, grad_fn=<DivBackward0>) \n",
      "\n",
      "on the datapoint 9 we have (1/3) tensor(1.4808, grad_fn=<DivBackward0>) \n",
      "\n",
      "on the datapoint 10 we have (1/3) tensor(1.5292, grad_fn=<DivBackward0>) \n",
      "\n",
      "on the datapoint 11 we have (1/3) tensor(1.4910, grad_fn=<DivBackward0>) \n",
      "\n",
      "on the datapoint 12 we have (1/3) tensor(1.4827, grad_fn=<DivBackward0>) \n",
      "\n",
      "on the datapoint 13 we have (1/3) tensor(1.4841, grad_fn=<DivBackward0>) \n",
      "\n",
      "on the datapoint 14 we have (1/3) tensor(1.4882, grad_fn=<DivBackward0>) \n",
      "\n",
      "on the datapoint 15 we have (1/3) tensor(1.6531, grad_fn=<DivBackward0>) \n",
      "\n",
      "on the datapoint 16 we have (1/3) tensor(1.5444, grad_fn=<DivBackward0>) \n",
      "\n",
      "on the datapoint 17 we have (1/3) tensor(1.4841, grad_fn=<DivBackward0>) \n",
      "\n",
      "on the datapoint 18 we have (1/3) tensor(1.4895, grad_fn=<DivBackward0>) \n",
      "\n",
      "on the datapoint 19 we have (1/3) tensor(1.4882, grad_fn=<DivBackward0>) \n",
      "\n",
      "on the datapoint 20 we have (1/3) tensor(1.4871, grad_fn=<DivBackward0>) \n",
      "\n"
     ]
    }
   ],
   "source": [
    "v_3 = np.zeros(20)\n",
    "v_4 = np.zeros(20)\n",
    "\n",
    "for i in range(1,21):\n",
    "#     print('on the datapoint', i, 'the Frobenius norm of the Jacobian of the SGD-trained net is:', torch.norm((Jac_1[i]), p='fro'), 'The one of the label noised:', torch.norm((Jac_2[i])))\n",
    "    print('on the datapoint', i, 'we have (1/2)', (torch.norm((Jac_1[i])) / torch.norm((Jac_2[i]))), '\\n')\n",
    "    v_3[i-1] = torch.norm((Jac_1[i])) / torch.norm((Jac_2[i]))\n",
    "\n",
    "for i in range(1,21):\n",
    "    print('on the datapoint', i, 'we have (1/3)', (torch.norm((Jac_1[i])) / torch.norm((Jac_3[i]))), '\\n')\n",
    "    v_4[i-1] = torch.norm((Jac_1[i])) / torch.norm((Jac_3[i]))\n"
   ]
  },
  {
   "cell_type": "code",
   "execution_count": 213,
   "metadata": {},
   "outputs": [
    {
     "name": "stdout",
     "output_type": "stream",
     "text": [
      "on the datapoint 1 the difference of the two Jacobians is (1-2)/1 tensor(0.3407, grad_fn=<DivBackward0>)\n",
      "on the datapoint 2 the difference of the two Jacobians is (1-2)/1 tensor(0.3258, grad_fn=<DivBackward0>)\n",
      "on the datapoint 3 the difference of the two Jacobians is (1-2)/1 tensor(0.3263, grad_fn=<DivBackward0>)\n",
      "on the datapoint 4 the difference of the two Jacobians is (1-2)/1 tensor(0.3239, grad_fn=<DivBackward0>)\n",
      "on the datapoint 5 the difference of the two Jacobians is (1-2)/1 tensor(0.3233, grad_fn=<DivBackward0>)\n",
      "on the datapoint 6 the difference of the two Jacobians is (1-2)/1 tensor(0.3246, grad_fn=<DivBackward0>)\n",
      "on the datapoint 7 the difference of the two Jacobians is (1-2)/1 tensor(0.3344, grad_fn=<DivBackward0>)\n",
      "on the datapoint 8 the difference of the two Jacobians is (1-2)/1 tensor(0.3269, grad_fn=<DivBackward0>)\n",
      "on the datapoint 9 the difference of the two Jacobians is (1-2)/1 tensor(0.3232, grad_fn=<DivBackward0>)\n",
      "on the datapoint 10 the difference of the two Jacobians is (1-2)/1 tensor(0.3243, grad_fn=<DivBackward0>)\n",
      "on the datapoint 11 the difference of the two Jacobians is (1-2)/1 tensor(0.3919, grad_fn=<DivBackward0>)\n",
      "on the datapoint 12 the difference of the two Jacobians is (1-2)/1 tensor(0.3242, grad_fn=<DivBackward0>)\n",
      "on the datapoint 13 the difference of the two Jacobians is (1-2)/1 tensor(0.3242, grad_fn=<DivBackward0>)\n",
      "on the datapoint 14 the difference of the two Jacobians is (1-2)/1 tensor(0.3243, grad_fn=<DivBackward0>)\n",
      "on the datapoint 15 the difference of the two Jacobians is (1-2)/1 tensor(0.5578, grad_fn=<DivBackward0>)\n",
      "on the datapoint 16 the difference of the two Jacobians is (1-2)/1 tensor(0.3567, grad_fn=<DivBackward0>)\n",
      "on the datapoint 17 the difference of the two Jacobians is (1-2)/1 tensor(0.3242, grad_fn=<DivBackward0>)\n",
      "on the datapoint 18 the difference of the two Jacobians is (1-2)/1 tensor(0.3268, grad_fn=<DivBackward0>)\n",
      "on the datapoint 19 the difference of the two Jacobians is (1-2)/1 tensor(0.3245, grad_fn=<DivBackward0>)\n",
      "on the datapoint 20 the difference of the two Jacobians is (1-2)/1 tensor(0.3239, grad_fn=<DivBackward0>)\n",
      "on the datapoint 1 the difference of the two Jacobians is (1-3)/1 tensor(0.3409, grad_fn=<DivBackward0>)\n",
      "on the datapoint 2 the difference of the two Jacobians is (1-3)/1 tensor(0.3284, grad_fn=<DivBackward0>)\n",
      "on the datapoint 3 the difference of the two Jacobians is (1-3)/1 tensor(0.3294, grad_fn=<DivBackward0>)\n",
      "on the datapoint 4 the difference of the two Jacobians is (1-3)/1 tensor(0.3277, grad_fn=<DivBackward0>)\n",
      "on the datapoint 5 the difference of the two Jacobians is (1-3)/1 tensor(0.3260, grad_fn=<DivBackward0>)\n",
      "on the datapoint 6 the difference of the two Jacobians is (1-3)/1 tensor(0.3267, grad_fn=<DivBackward0>)\n",
      "on the datapoint 7 the difference of the two Jacobians is (1-3)/1 tensor(0.3340, grad_fn=<DivBackward0>)\n",
      "on the datapoint 8 the difference of the two Jacobians is (1-3)/1 tensor(0.3291, grad_fn=<DivBackward0>)\n",
      "on the datapoint 9 the difference of the two Jacobians is (1-3)/1 tensor(0.3252, grad_fn=<DivBackward0>)\n",
      "on the datapoint 10 the difference of the two Jacobians is (1-3)/1 tensor(0.3525, grad_fn=<DivBackward0>)\n",
      "on the datapoint 11 the difference of the two Jacobians is (1-3)/1 tensor(0.3907, grad_fn=<DivBackward0>)\n",
      "on the datapoint 12 the difference of the two Jacobians is (1-3)/1 tensor(0.3260, grad_fn=<DivBackward0>)\n",
      "on the datapoint 13 the difference of the two Jacobians is (1-3)/1 tensor(0.3264, grad_fn=<DivBackward0>)\n",
      "on the datapoint 14 the difference of the two Jacobians is (1-3)/1 tensor(0.3283, grad_fn=<DivBackward0>)\n",
      "on the datapoint 15 the difference of the two Jacobians is (1-3)/1 tensor(0.4533, grad_fn=<DivBackward0>)\n",
      "on the datapoint 16 the difference of the two Jacobians is (1-3)/1 tensor(0.3570, grad_fn=<DivBackward0>)\n",
      "on the datapoint 17 the difference of the two Jacobians is (1-3)/1 tensor(0.3264, grad_fn=<DivBackward0>)\n",
      "on the datapoint 18 the difference of the two Jacobians is (1-3)/1 tensor(0.3290, grad_fn=<DivBackward0>)\n",
      "on the datapoint 19 the difference of the two Jacobians is (1-3)/1 tensor(0.3283, grad_fn=<DivBackward0>)\n",
      "on the datapoint 20 the difference of the two Jacobians is (1-3)/1 tensor(0.3278, grad_fn=<DivBackward0>)\n"
     ]
    }
   ],
   "source": [
    "for i in range(1,21):\n",
    "#     print('on the datapoint', i, 'the Frobenius norm of the Jacobian of the SGD-trained net is:', torch.norm((Jac_1[i]), p='fro'), 'The one of the label noised:', torch.norm((Jac_2[i])))\n",
    "    print('on the datapoint', i, 'the difference of the two Jacobians is (1-2)/1', torch.norm(Jac_1[i]-Jac_2[i])/torch.norm(Jac_1[i]))\n",
    "#     print('on the datapoint', i, 'the difference of the two neural nets is', torch.norm(net_diff(example_data[i:i+1,:,:,:]))/torch.norm(net1(example_data[i:i+1,:,:,:])))\n",
    "\n",
    "for i in range(1,21):\n",
    "    print('on the datapoint', i, 'the difference of the two Jacobians is (1-3)/1', torch.norm(Jac_1[i]-Jac_3[i])/torch.norm(Jac_1[i]))\n"
   ]
  },
  {
   "cell_type": "code",
   "execution_count": 214,
   "metadata": {},
   "outputs": [],
   "source": [
    "Jac_4 = {}\n",
    "Jac_5 = {}\n",
    "Jac_6 = {}\n",
    "# Jac_diff = {}\n",
    "\n",
    "for i in range(1,21):\n",
    "    x = dataset2.inputs[i+50000]\n",
    "    Jac_4[i] = torch.autograd.functional.jacobian(net1, x, create_graph = True)\n",
    "    Jac_5[i] = torch.autograd.functional.jacobian(net2, x, create_graph = True)\n",
    "    Jac_6[i] = torch.autograd.functional.jacobian(net3, x, create_graph = True)"
   ]
  },
  {
   "cell_type": "code",
   "execution_count": 215,
   "metadata": {},
   "outputs": [
    {
     "name": "stdout",
     "output_type": "stream",
     "text": [
      "on the datapoint 1 we have (1/2) tensor(1.4771, grad_fn=<DivBackward0>) \n",
      "\n",
      "on the datapoint 2 we have (1/2) tensor(1.4772, grad_fn=<DivBackward0>) \n",
      "\n",
      "on the datapoint 3 we have (1/2) tensor(1.4741, grad_fn=<DivBackward0>) \n",
      "\n",
      "on the datapoint 4 we have (1/2) tensor(1.4994, grad_fn=<DivBackward0>) \n",
      "\n",
      "on the datapoint 5 we have (1/2) tensor(1.4954, grad_fn=<DivBackward0>) \n",
      "\n",
      "on the datapoint 6 we have (1/2) tensor(1.5008, grad_fn=<DivBackward0>) \n",
      "\n",
      "on the datapoint 7 we have (1/2) tensor(1.4792, grad_fn=<DivBackward0>) \n",
      "\n",
      "on the datapoint 8 we have (1/2) tensor(1.4790, grad_fn=<DivBackward0>) \n",
      "\n",
      "on the datapoint 9 we have (1/2) tensor(1.4673, grad_fn=<DivBackward0>) \n",
      "\n",
      "on the datapoint 10 we have (1/2) tensor(1.4772, grad_fn=<DivBackward0>) \n",
      "\n",
      "on the datapoint 11 we have (1/2) tensor(1.4775, grad_fn=<DivBackward0>) \n",
      "\n",
      "on the datapoint 12 we have (1/2) tensor(1.5102, grad_fn=<DivBackward0>) \n",
      "\n",
      "on the datapoint 13 we have (1/2) tensor(1.4771, grad_fn=<DivBackward0>) \n",
      "\n",
      "on the datapoint 14 we have (1/2) tensor(1.4771, grad_fn=<DivBackward0>) \n",
      "\n",
      "on the datapoint 15 we have (1/2) tensor(1.4773, grad_fn=<DivBackward0>) \n",
      "\n",
      "on the datapoint 16 we have (1/2) tensor(1.5374, grad_fn=<DivBackward0>) \n",
      "\n",
      "on the datapoint 17 we have (1/2) tensor(1.5093, grad_fn=<DivBackward0>) \n",
      "\n",
      "on the datapoint 18 we have (1/2) tensor(1.4854, grad_fn=<DivBackward0>) \n",
      "\n",
      "on the datapoint 19 we have (1/2) tensor(1.5012, grad_fn=<DivBackward0>) \n",
      "\n",
      "on the datapoint 20 we have (1/2) tensor(1.4771, grad_fn=<DivBackward0>) \n",
      "\n",
      "on the datapoint 1 we have (1/3) tensor(1.4833, grad_fn=<DivBackward0>) \n",
      "\n",
      "on the datapoint 2 we have (1/3) tensor(1.4816, grad_fn=<DivBackward0>) \n",
      "\n",
      "on the datapoint 3 we have (1/3) tensor(1.4817, grad_fn=<DivBackward0>) \n",
      "\n",
      "on the datapoint 4 we have (1/3) tensor(1.5070, grad_fn=<DivBackward0>) \n",
      "\n",
      "on the datapoint 5 we have (1/3) tensor(1.5007, grad_fn=<DivBackward0>) \n",
      "\n",
      "on the datapoint 6 we have (1/3) tensor(1.5104, grad_fn=<DivBackward0>) \n",
      "\n",
      "on the datapoint 7 we have (1/3) tensor(1.4841, grad_fn=<DivBackward0>) \n",
      "\n",
      "on the datapoint 8 we have (1/3) tensor(1.4877, grad_fn=<DivBackward0>) \n",
      "\n",
      "on the datapoint 9 we have (1/3) tensor(1.4852, grad_fn=<DivBackward0>) \n",
      "\n",
      "on the datapoint 10 we have (1/3) tensor(1.4816, grad_fn=<DivBackward0>) \n",
      "\n",
      "on the datapoint 11 we have (1/3) tensor(1.4818, grad_fn=<DivBackward0>) \n",
      "\n",
      "on the datapoint 12 we have (1/3) tensor(1.5170, grad_fn=<DivBackward0>) \n",
      "\n",
      "on the datapoint 13 we have (1/3) tensor(1.4833, grad_fn=<DivBackward0>) \n",
      "\n",
      "on the datapoint 14 we have (1/3) tensor(1.4833, grad_fn=<DivBackward0>) \n",
      "\n",
      "on the datapoint 15 we have (1/3) tensor(1.4834, grad_fn=<DivBackward0>) \n",
      "\n",
      "on the datapoint 16 we have (1/3) tensor(1.5380, grad_fn=<DivBackward0>) \n",
      "\n",
      "on the datapoint 17 we have (1/3) tensor(1.5117, grad_fn=<DivBackward0>) \n",
      "\n",
      "on the datapoint 18 we have (1/3) tensor(1.4932, grad_fn=<DivBackward0>) \n",
      "\n",
      "on the datapoint 19 we have (1/3) tensor(1.5056, grad_fn=<DivBackward0>) \n",
      "\n",
      "on the datapoint 20 we have (1/3) tensor(1.4833, grad_fn=<DivBackward0>) \n",
      "\n"
     ]
    }
   ],
   "source": [
    "v_1 = np.zeros(20)\n",
    "v_2 = np.zeros(20)\n",
    "\n",
    "for i in range(1,21):\n",
    "#     print('on the datapoint', i, 'the Frobenius norm of the Jacobian of the SGD-trained net is:', torch.norm((Jac_1[i]), p='fro'), 'The one of the label noised:', torch.norm((Jac_2[i])))\n",
    "    print('on the datapoint', i, 'we have (1/2)', (torch.norm((Jac_4[i])) / torch.norm((Jac_5[i]))), '\\n')\n",
    "    v_1[i-1] = torch.norm((Jac_4[i])) / torch.norm((Jac_5[i]))\n",
    "    \n",
    "for i in range(1,21):\n",
    "    print('on the datapoint', i, 'we have (1/3)', (torch.norm((Jac_4[i])) / torch.norm((Jac_6[i]))), '\\n')\n",
    "    v_2[i-1] = torch.norm((Jac_4[i])) / torch.norm((Jac_6[i]))\n",
    "    \n"
   ]
  },
  {
   "cell_type": "markdown",
   "metadata": {},
   "source": [
    "# Plotting"
   ]
  },
  {
   "cell_type": "code",
   "execution_count": 220,
   "metadata": {},
   "outputs": [],
   "source": [
    "toplot = {\n",
    "    'train - input noise': {'color': 'C0'},\n",
    "    'test - input noise': { 'color': \"C1\"},\n",
    "    'train - label 0.5': {'color': 'C2'},\n",
    "    'test - label 0.5': { 'color': \"C3\"},\n",
    "}\n",
    " \n",
    "results = {}\n",
    "\n",
    "for label, fields in toplot.items():\n",
    "        if label == 'train - input noise':\n",
    "           # accuracy_adam = mean_ad\n",
    "            results[label] = v_3\n",
    "        if label == 'test - input noise':\n",
    "          #  accuracy_da = mean\n",
    "            results[label] = v_1\n",
    "        if label == 'train - label 0.5':\n",
    "           # accuracy_adam = mean_ad\n",
    "            results[label] = v_4\n",
    "        if label == 'test - label 0.5':\n",
    "          #  accuracy_da = mean\n",
    "            results[label] = v_2\n",
    "            \n",
    "            \n",
    "accuracy = {}\n",
    "\n",
    "for label, fields in toplot.items():\n",
    "        if label == 'train - input noise':\n",
    "           # accuracy_adam = mean_ad\n",
    "            accuracy[label] = ('Train loss 5.40e5')\n",
    "        if label == 'test - input noise':\n",
    "          #  accuracy_da = mean\n",
    "            accuracy[label] = ('Test accuracy '+str(b['best_acc']))\n",
    "        if label == 'train - label 0.5':\n",
    "           # accuracy_adam = mean_ad\n",
    "            accuracy[label] = ('Train loss 5.44e5')\n",
    "        if label == 'test - label 0.5':\n",
    "          #  accuracy_da = mean\n",
    "            accuracy[label] = ('Test accuracy '+str(b['best_acc']))"
   ]
  },
  {
   "cell_type": "code",
   "execution_count": 221,
   "metadata": {},
   "outputs": [
    {
     "name": "stdout",
     "output_type": "stream",
     "text": [
      "Saved jacobian_norm_ratio_128_linear.pdf\n"
     ]
    },
    {
     "data": {
      "image/png": "[encoded data removed]",
      "text/plain": [
       "<Figure size 432x288 with 1 Axes>"
      ]
     },
     "metadata": {
      "needs_background": "light"
     },
     "output_type": "display_data"
    }
   ],
   "source": [
    "mpl.rcParams['font.family'] = 'serif'\n",
    "mpl.rcParams['axes.titlesize'] = 12\n",
    "mpl.rcParams['axes.labelsize'] = 12\n",
    "mpl.rcParams['font.size'] = 12\n",
    "mpl.rcParams['legend.fontsize'] = 12\n",
    "linewidth = '0.4'\n",
    "mpl.rcParams['lines.linewidth'] = 1\n",
    "mpl.rcParams['axes.linewidth'] = linewidth\n",
    "mpl.rcParams['xtick.major.width'] = linewidth\n",
    "mpl.rcParams['ytick.major.width'] = linewidth\n",
    "\n",
    "fig = plt.figure()\n",
    "\n",
    "ax = fig.add_subplot(1, 1, 1)\n",
    "for res1 in results.items():\n",
    "    lbl = res1[0]\n",
    "    arr_data = res1[1]#[0]\n",
    "    xp = np.array(range(len(arr_data)))\n",
    "    fields = toplot[lbl]\n",
    "    label = f\"{lbl} ({accuracy[lbl]})\"\n",
    "    ax.plot(xp, arr_data, label=label)\n",
    "\n",
    "\n",
    "ax.set_xlabel('points in the dataset')\n",
    "ax.set_ylabel('ration of the norms of the Jacobians')\n",
    "ax.set_title(\"CIFAR-10\")\n",
    "ax.legend(loc='lower right')\n",
    "\n",
    "fname = \"jacobian_norm_ratio_128_linear.pdf\"\n",
    "plt.savefig(fname)\n",
    "print(f\"Saved {fname}\")"
   ]
  },
  {
   "cell_type": "code",
   "execution_count": null,
   "metadata": {},
   "outputs": [],
   "source": []
  },
  {
   "cell_type": "code",
   "execution_count": 235,
   "metadata": {},
   "outputs": [],
   "source": [
    "toplot = {\n",
    "    'SGD': {'color': 'C0'},\n",
    "    'GD + input noise': { 'color': \"C1\"},\n",
    "    'GD + label noise': { 'color': \"C2\"},\n",
    "}\n",
    " \n",
    "results = {}\n",
    "\n",
    "for label, fields in toplot.items():\n",
    "        if label == 'SGD':\n",
    "           # accuracy_adam = mean_ad\n",
    "            results[label]=a['test_acc_array'][:20]\n",
    "        if label == 'GD + input noise':\n",
    "          #  accuracy_da = mean\n",
    "            results[label]=b['test_acc_array'][:20]\n",
    "        if label == 'GD + label noise':\n",
    "          #  accuracy_da = mean\n",
    "            results[label]=c['test_acc_array'][:20]\n",
    "        if label == 'SGD + strong label noise':\n",
    "          #  accuracy_da = mean\n",
    "            results[label]=d['test_acc_array'][:20]\n",
    "            \n",
    "results_1 = {}\n",
    "\n",
    "for label, fields in toplot.items():\n",
    "        if label == 'SGD':\n",
    "           # accuracy_adam = mean_ad\n",
    "            results_1[label]=a['train_loss_array'][:20]\n",
    "        if label == 'GD + input noise':\n",
    "          #  accuracy_da = mean\n",
    "            results_1[label]=b['train_loss_array'][:20]\n",
    "        if label == 'GD + label noise':\n",
    "          #  accuracy_da = mean\n",
    "            results_1[label]=c['train_loss_array'][:20]\n",
    "        if label == 'SGD + strong label noise':\n",
    "          #  accuracy_da = mean\n",
    "            results_1[label]=d['train_loss_array'][:20]\n",
    "            \n",
    "accuracy = {}\n",
    "\n",
    "for label, fields in toplot.items():\n",
    "        if label == 'SGD':\n",
    "           # accuracy_adam = mean_ad\n",
    "            accuracy[label]=a['best_acc']\n",
    "        if label == 'GD + input noise':\n",
    "          #  accuracy_da = mean\n",
    "            accuracy[label]=b['best_acc']\n",
    "        if label == 'GD + label noise':\n",
    "          #  accuracy_da = mean\n",
    "            accuracy[label]=c['best_acc']\n",
    "        if label == 'SGD + strong label noise':\n",
    "          #  accuracy_da = mean\n",
    "            accuracy[label]=d['best_acc']"
   ]
  },
  {
   "cell_type": "code",
   "execution_count": 236,
   "metadata": {},
   "outputs": [
    {
     "data": {
      "text/plain": [
       "{'SGD': 93.46, 'GD + input noise': 93.4, 'GD + label noise': 93.25}"
      ]
     },
     "execution_count": 236,
     "metadata": {},
     "output_type": "execute_result"
    }
   ],
   "source": [
    "accuracy"
   ]
  },
  {
   "cell_type": "code",
   "execution_count": 239,
   "metadata": {},
   "outputs": [
    {
     "name": "stdout",
     "output_type": "stream",
     "text": [
      "Saved Linear_net_test_acc.pdf\n"
     ]
    },
    {
     "data": {
      "image/png": "[encoded data removed]",
      "text/plain": [
       "<Figure size 432x288 with 1 Axes>"
      ]
     },
     "metadata": {
      "needs_background": "light"
     },
     "output_type": "display_data"
    }
   ],
   "source": [
    "mpl.rcParams['font.family'] = 'serif'\n",
    "mpl.rcParams['axes.titlesize'] = 12\n",
    "mpl.rcParams['axes.labelsize'] = 12\n",
    "mpl.rcParams['font.size'] = 12\n",
    "mpl.rcParams['legend.fontsize'] = 12\n",
    "linewidth = '0.4'\n",
    "mpl.rcParams['lines.linewidth'] = 1\n",
    "mpl.rcParams['axes.linewidth'] = linewidth\n",
    "mpl.rcParams['xtick.major.width'] = linewidth\n",
    "mpl.rcParams['ytick.major.width'] = linewidth\n",
    "\n",
    "fig = plt.figure()\n",
    "\n",
    "ax = fig.add_subplot(1, 1, 1)\n",
    "for res1 in results.items():\n",
    "    lbl = res1[0]\n",
    "    arr_data = res1[1]#[0]\n",
    "    xp = np.array(range(len(arr_data)))\n",
    "    fields = toplot[lbl]\n",
    "    label = f\"{lbl} ({accuracy[lbl]:2.2f}%)\"\n",
    "    ax.plot(xp[5:], arr_data[5:], label=label)\n",
    "\n",
    "\n",
    "ax.set_xlabel('Number of epochs ')\n",
    "ax.set_ylabel('Test accuracy')\n",
    "ax.set_title(\"Linear nets setting\")\n",
    "ax.legend(loc='lower right')\n",
    "\n",
    "fname = \"Linear_net_test_acc.pdf\"\n",
    "plt.savefig(fname)\n",
    "print(f\"Saved {fname}\")"
   ]
  },
  {
   "cell_type": "code",
   "execution_count": 241,
   "metadata": {},
   "outputs": [
    {
     "name": "stdout",
     "output_type": "stream",
     "text": [
      "Saved Linear_net_train_loss.pdf\n"
     ]
    },
    {
     "data": {
      "image/png": "[encoded data removed]",
      "text/plain": [
       "<Figure size 432x288 with 1 Axes>"
      ]
     },
     "metadata": {
      "needs_background": "light"
     },
     "output_type": "display_data"
    }
   ],
   "source": [
    "mpl.rcParams['font.family'] = 'serif'\n",
    "mpl.rcParams['axes.titlesize'] = 12\n",
    "mpl.rcParams['axes.labelsize'] = 12\n",
    "mpl.rcParams['font.size'] = 12\n",
    "mpl.rcParams['legend.fontsize'] = 12\n",
    "linewidth = '0.4'\n",
    "mpl.rcParams['lines.linewidth'] = 1\n",
    "mpl.rcParams['axes.linewidth'] = linewidth\n",
    "mpl.rcParams['xtick.major.width'] = linewidth\n",
    "mpl.rcParams['ytick.major.width'] = linewidth\n",
    "\n",
    "fig = plt.figure()\n",
    "\n",
    "ax = fig.add_subplot(1, 1, 1)\n",
    "for res1 in results_1.items():\n",
    "    lbl = res1[0]\n",
    "    arr_data = res1[1]#[0]\n",
    "    xp = np.array(range(len(arr_data)))\n",
    "    fields = toplot[lbl]\n",
    "    label = f\"{lbl} ({arr_data[-1]:2.4f})\"\n",
    "    ax.plot(xp[4:], arr_data[4:], label=label)\n",
    "\n",
    "\n",
    "ax.set_xlabel('Number of epochs ')\n",
    "ax.set_ylabel('Training loss')\n",
    "ax.set_title(\"Linear nets setting\")\n",
    "ax.legend(loc='upper right')\n",
    "\n",
    "fname = \"Linear_net_train_loss.pdf\"\n",
    "plt.savefig(fname)\n",
    "print(f\"Saved {fname}\")"
   ]
  },
  {
   "cell_type": "code",
   "execution_count": null,
   "metadata": {},
   "outputs": [],
   "source": []
  }
 ],
 "metadata": {
  "kernelspec": {
   "display_name": "Python 3",
   "language": "python",
   "name": "python3"
  },
  "language_info": {
   "codemirror_mode": {
    "name": "ipython",
    "version": 3
   },
   "file_extension": ".py",
   "mimetype": "text/x-python",
   "name": "python",
   "nbconvert_exporter": "python",
   "pygments_lexer": "ipython3",
   "version": "3.8.3"
  }
 },
 "nbformat": 4,
 "nbformat_minor": 4
}
