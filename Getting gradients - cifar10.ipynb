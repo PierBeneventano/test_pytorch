{
 "cells": [
  {
   "cell_type": "code",
   "execution_count": 2,
   "metadata": {},
   "outputs": [],
   "source": [
    "import torch\n",
    "import torchvision\n",
    "import torchvision.transforms as transforms\n",
    "\n",
    "import matplotlib as mpl\n",
    "import numpy as np\n",
    "import matplotlib.pyplot as plt\n",
    "from models import *"
   ]
  },
  {
   "cell_type": "code",
   "execution_count": 64,
   "metadata": {},
   "outputs": [
    {
     "ename": "FileNotFoundError",
     "evalue": "[Errno 2] No such file or directory: 'tiger_files/pb29/checkpoint/final/FINAL_dataset_cifar10-model_vgg-epoch_200-label_noise_prob_0.1-input_gaussian_noise_0-gaussian_noise_SD_0-noise_decay_fixed-batch_size_1024.pt'",
     "output_type": "error",
     "traceback": [
      "\u001b[1;31m---------------------------------------------------------------------------\u001b[0m",
      "\u001b[1;31mFileNotFoundError\u001b[0m                         Traceback (most recent call last)",
      "\u001b[1;32m<ipython-input-64-2a1783b66988>\u001b[0m in \u001b[0;36m<module>\u001b[1;34m\u001b[0m\n\u001b[0;32m      1\u001b[0m \u001b[0ma\u001b[0m \u001b[1;33m=\u001b[0m \u001b[0mtorch\u001b[0m\u001b[1;33m.\u001b[0m\u001b[0mload\u001b[0m\u001b[1;33m(\u001b[0m\u001b[1;34m'tiger_files/pb29/checkpoint/final/FINAL_dataset_cifar10-model_vgg-epoch_200-label_noise_prob_0-input_gaussian_noise_0-gaussian_noise_SD_0-noise_decay_fixed-batch_size_1024.pt'\u001b[0m\u001b[1;33m,\u001b[0m \u001b[0mmap_location\u001b[0m \u001b[1;33m=\u001b[0m\u001b[1;34m'cpu'\u001b[0m\u001b[1;33m)\u001b[0m\u001b[1;33m\u001b[0m\u001b[1;33m\u001b[0m\u001b[0m\n\u001b[0;32m      2\u001b[0m \u001b[1;33m\u001b[0m\u001b[0m\n\u001b[1;32m----> 3\u001b[1;33m \u001b[0mb\u001b[0m \u001b[1;33m=\u001b[0m \u001b[0mtorch\u001b[0m\u001b[1;33m.\u001b[0m\u001b[0mload\u001b[0m\u001b[1;33m(\u001b[0m\u001b[1;34m'tiger_files/pb29/checkpoint/final/FINAL_dataset_cifar10-model_vgg-epoch_200-label_noise_prob_0.1-input_gaussian_noise_0-gaussian_noise_SD_0-noise_decay_fixed-batch_size_1024.pt'\u001b[0m\u001b[1;33m,\u001b[0m \u001b[0mmap_location\u001b[0m \u001b[1;33m=\u001b[0m\u001b[1;34m'cpu'\u001b[0m\u001b[1;33m)\u001b[0m\u001b[1;33m\u001b[0m\u001b[1;33m\u001b[0m\u001b[0m\n\u001b[0m\u001b[0;32m      4\u001b[0m \u001b[1;33m\u001b[0m\u001b[0m\n\u001b[0;32m      5\u001b[0m \u001b[0mc\u001b[0m \u001b[1;33m=\u001b[0m \u001b[0mtorch\u001b[0m\u001b[1;33m.\u001b[0m\u001b[0mload\u001b[0m\u001b[1;33m(\u001b[0m\u001b[1;34m'tiger_files/pb29/checkpoint/final/FINAL_dataset_cifar10-model_vgg-epoch_200-label_noise_prob_0.5-input_gaussian_noise_0-gaussian_noise_SD_0-noise_decay_fixed-batch_size_1024.pt'\u001b[0m\u001b[1;33m,\u001b[0m \u001b[0mmap_location\u001b[0m \u001b[1;33m=\u001b[0m\u001b[1;34m'cpu'\u001b[0m\u001b[1;33m)\u001b[0m\u001b[1;33m\u001b[0m\u001b[1;33m\u001b[0m\u001b[0m\n",
      "\u001b[1;32m~\\anaconda3\\lib\\site-packages\\torch\\serialization.py\u001b[0m in \u001b[0;36mload\u001b[1;34m(f, map_location, pickle_module, **pickle_load_args)\u001b[0m\n\u001b[0;32m    577\u001b[0m         \u001b[0mpickle_load_args\u001b[0m\u001b[1;33m[\u001b[0m\u001b[1;34m'encoding'\u001b[0m\u001b[1;33m]\u001b[0m \u001b[1;33m=\u001b[0m \u001b[1;34m'utf-8'\u001b[0m\u001b[1;33m\u001b[0m\u001b[1;33m\u001b[0m\u001b[0m\n\u001b[0;32m    578\u001b[0m \u001b[1;33m\u001b[0m\u001b[0m\n\u001b[1;32m--> 579\u001b[1;33m     \u001b[1;32mwith\u001b[0m \u001b[0m_open_file_like\u001b[0m\u001b[1;33m(\u001b[0m\u001b[0mf\u001b[0m\u001b[1;33m,\u001b[0m \u001b[1;34m'rb'\u001b[0m\u001b[1;33m)\u001b[0m \u001b[1;32mas\u001b[0m \u001b[0mopened_file\u001b[0m\u001b[1;33m:\u001b[0m\u001b[1;33m\u001b[0m\u001b[1;33m\u001b[0m\u001b[0m\n\u001b[0m\u001b[0;32m    580\u001b[0m         \u001b[1;32mif\u001b[0m \u001b[0m_is_zipfile\u001b[0m\u001b[1;33m(\u001b[0m\u001b[0mopened_file\u001b[0m\u001b[1;33m)\u001b[0m\u001b[1;33m:\u001b[0m\u001b[1;33m\u001b[0m\u001b[1;33m\u001b[0m\u001b[0m\n\u001b[0;32m    581\u001b[0m             \u001b[1;31m# The zipfile reader is going to advance the current file position.\u001b[0m\u001b[1;33m\u001b[0m\u001b[1;33m\u001b[0m\u001b[1;33m\u001b[0m\u001b[0m\n",
      "\u001b[1;32m~\\anaconda3\\lib\\site-packages\\torch\\serialization.py\u001b[0m in \u001b[0;36m_open_file_like\u001b[1;34m(name_or_buffer, mode)\u001b[0m\n\u001b[0;32m    228\u001b[0m \u001b[1;32mdef\u001b[0m \u001b[0m_open_file_like\u001b[0m\u001b[1;33m(\u001b[0m\u001b[0mname_or_buffer\u001b[0m\u001b[1;33m,\u001b[0m \u001b[0mmode\u001b[0m\u001b[1;33m)\u001b[0m\u001b[1;33m:\u001b[0m\u001b[1;33m\u001b[0m\u001b[1;33m\u001b[0m\u001b[0m\n\u001b[0;32m    229\u001b[0m     \u001b[1;32mif\u001b[0m \u001b[0m_is_path\u001b[0m\u001b[1;33m(\u001b[0m\u001b[0mname_or_buffer\u001b[0m\u001b[1;33m)\u001b[0m\u001b[1;33m:\u001b[0m\u001b[1;33m\u001b[0m\u001b[1;33m\u001b[0m\u001b[0m\n\u001b[1;32m--> 230\u001b[1;33m         \u001b[1;32mreturn\u001b[0m \u001b[0m_open_file\u001b[0m\u001b[1;33m(\u001b[0m\u001b[0mname_or_buffer\u001b[0m\u001b[1;33m,\u001b[0m \u001b[0mmode\u001b[0m\u001b[1;33m)\u001b[0m\u001b[1;33m\u001b[0m\u001b[1;33m\u001b[0m\u001b[0m\n\u001b[0m\u001b[0;32m    231\u001b[0m     \u001b[1;32melse\u001b[0m\u001b[1;33m:\u001b[0m\u001b[1;33m\u001b[0m\u001b[1;33m\u001b[0m\u001b[0m\n\u001b[0;32m    232\u001b[0m         \u001b[1;32mif\u001b[0m \u001b[1;34m'w'\u001b[0m \u001b[1;32min\u001b[0m \u001b[0mmode\u001b[0m\u001b[1;33m:\u001b[0m\u001b[1;33m\u001b[0m\u001b[1;33m\u001b[0m\u001b[0m\n",
      "\u001b[1;32m~\\anaconda3\\lib\\site-packages\\torch\\serialization.py\u001b[0m in \u001b[0;36m__init__\u001b[1;34m(self, name, mode)\u001b[0m\n\u001b[0;32m    209\u001b[0m \u001b[1;32mclass\u001b[0m \u001b[0m_open_file\u001b[0m\u001b[1;33m(\u001b[0m\u001b[0m_opener\u001b[0m\u001b[1;33m)\u001b[0m\u001b[1;33m:\u001b[0m\u001b[1;33m\u001b[0m\u001b[1;33m\u001b[0m\u001b[0m\n\u001b[0;32m    210\u001b[0m     \u001b[1;32mdef\u001b[0m \u001b[0m__init__\u001b[0m\u001b[1;33m(\u001b[0m\u001b[0mself\u001b[0m\u001b[1;33m,\u001b[0m \u001b[0mname\u001b[0m\u001b[1;33m,\u001b[0m \u001b[0mmode\u001b[0m\u001b[1;33m)\u001b[0m\u001b[1;33m:\u001b[0m\u001b[1;33m\u001b[0m\u001b[1;33m\u001b[0m\u001b[0m\n\u001b[1;32m--> 211\u001b[1;33m         \u001b[0msuper\u001b[0m\u001b[1;33m(\u001b[0m\u001b[0m_open_file\u001b[0m\u001b[1;33m,\u001b[0m \u001b[0mself\u001b[0m\u001b[1;33m)\u001b[0m\u001b[1;33m.\u001b[0m\u001b[0m__init__\u001b[0m\u001b[1;33m(\u001b[0m\u001b[0mopen\u001b[0m\u001b[1;33m(\u001b[0m\u001b[0mname\u001b[0m\u001b[1;33m,\u001b[0m \u001b[0mmode\u001b[0m\u001b[1;33m)\u001b[0m\u001b[1;33m)\u001b[0m\u001b[1;33m\u001b[0m\u001b[1;33m\u001b[0m\u001b[0m\n\u001b[0m\u001b[0;32m    212\u001b[0m \u001b[1;33m\u001b[0m\u001b[0m\n\u001b[0;32m    213\u001b[0m     \u001b[1;32mdef\u001b[0m \u001b[0m__exit__\u001b[0m\u001b[1;33m(\u001b[0m\u001b[0mself\u001b[0m\u001b[1;33m,\u001b[0m \u001b[1;33m*\u001b[0m\u001b[0margs\u001b[0m\u001b[1;33m)\u001b[0m\u001b[1;33m:\u001b[0m\u001b[1;33m\u001b[0m\u001b[1;33m\u001b[0m\u001b[0m\n",
      "\u001b[1;31mFileNotFoundError\u001b[0m: [Errno 2] No such file or directory: 'tiger_files/pb29/checkpoint/final/FINAL_dataset_cifar10-model_vgg-epoch_200-label_noise_prob_0.1-input_gaussian_noise_0-gaussian_noise_SD_0-noise_decay_fixed-batch_size_1024.pt'"
     ]
    }
   ],
   "source": [
    "a = torch.load('tiger_files/pb29/checkpoint/final/FINAL_dataset_cifar10-model_vgg-epoch_200-label_noise_prob_0-input_gaussian_noise_0-gaussian_noise_SD_0-noise_decay_fixed-batch_size_1024.pt', map_location ='cpu')\n",
    "\n",
    "b = torch.load('tiger_files/pb29/checkpoint/final/FINAL_dataset_cifar10-model_vgg-epoch_200-label_noise_prob_0.1-input_gaussian_noise_0-gaussian_noise_SD_0-noise_decay_fixed-batch_size_1024.pt', map_location ='cpu')\n",
    "\n",
    "c = torch.load('tiger_files/pb29/checkpoint/final/FINAL_dataset_cifar10-model_vgg-epoch_200-label_noise_prob_0.5-input_gaussian_noise_0-gaussian_noise_SD_0-noise_decay_fixed-batch_size_1024.pt', map_location ='cpu')\n",
    "\n"
   ]
  },
  {
   "cell_type": "code",
   "execution_count": 50,
   "metadata": {},
   "outputs": [
    {
     "name": "stdout",
     "output_type": "stream",
     "text": [
      "test accuracy: 93.78 93.92 93.92 \n",
      "\n",
      "train loss: 0.001282942761658736 0.001474252116391221 0.001474252116391221\n"
     ]
    },
    {
     "data": {
      "text/plain": [
       "array([12.36, 22.25, 26.04, 34.59, 39.22, 62.68, 66.1 , 67.64, 71.6 ,\n",
       "       68.18, 69.65, 67.47, 65.81, 76.05, 76.44, 72.21, 77.25, 79.45,\n",
       "       75.64, 79.09, 77.54, 77.92, 77.77, 79.03, 80.85, 77.69, 82.65,\n",
       "       81.63, 74.83, 68.76, 81.46, 80.41, 71.22, 79.91, 76.23, 80.68,\n",
       "       82.64, 75.75, 80.89, 81.41, 78.66, 81.28, 82.27, 79.37, 81.4 ,\n",
       "       81.73, 70.95, 81.17, 83.93, 79.09, 80.27, 82.24, 79.54, 83.94,\n",
       "       81.62, 80.24, 80.65, 76.89, 82.75, 78.96, 81.72, 82.41, 80.35,\n",
       "       80.06, 73.72, 81.36, 82.77, 85.02, 82.  , 82.23, 83.02, 83.76,\n",
       "       84.18, 81.64, 84.82, 82.61, 83.73, 79.87, 84.65, 83.25, 82.17,\n",
       "       83.4 , 84.29, 82.84, 78.34, 84.68, 85.96, 81.72, 86.43, 81.22,\n",
       "       85.56, 86.32, 84.17, 85.57, 86.27, 82.72, 87.09, 87.56, 85.31,\n",
       "       84.41, 83.68, 85.28, 85.24, 84.74, 85.98, 88.31, 84.82, 87.29,\n",
       "       88.24, 87.53, 86.11, 88.06, 88.04, 86.84, 86.81, 87.94, 87.29,\n",
       "       87.56, 85.92, 89.37, 88.2 , 88.69, 88.58, 88.86, 89.89, 86.71,\n",
       "       87.02, 89.38, 86.16, 88.91, 88.46, 90.19, 88.42, 87.71, 89.73,\n",
       "       89.92, 90.77, 89.3 , 88.25, 90.03, 88.81, 90.84, 90.32, 90.84,\n",
       "       90.42, 88.83, 90.6 , 90.45, 90.36, 90.23, 91.12, 90.46, 90.96,\n",
       "       91.03, 90.93, 91.11, 91.01, 90.87, 91.78, 91.63, 91.29, 91.03,\n",
       "       90.88, 91.74, 91.61, 91.52, 92.04, 92.41, 92.66, 92.54, 92.76,\n",
       "       92.75, 92.37, 92.78, 93.13, 92.85, 93.37, 93.19, 93.34, 93.36,\n",
       "       93.27, 93.45, 93.62, 93.72, 93.69, 93.63, 93.72, 93.58, 93.66,\n",
       "       93.61, 93.68, 93.68, 93.7 , 93.81, 93.74, 93.74, 93.76, 93.76,\n",
       "       93.75, 93.78])"
      ]
     },
     "execution_count": 50,
     "metadata": {},
     "output_type": "execute_result"
    }
   ],
   "source": [
    "print('test accuracy:', a['test_acc_array'][-1], b['test_acc_array'][-1], c['test_acc_array'][-1], '\\n')\n",
    "print('train loss:', a['train_loss_array'][-1], b['train_loss_array'][-1], c['train_loss_array'][-1])\n",
    "\n",
    "a['test_acc_array']"
   ]
  },
  {
   "cell_type": "code",
   "execution_count": 51,
   "metadata": {
    "scrolled": true
   },
   "outputs": [
    {
     "data": {
      "text/plain": [
       "VGG(\n",
       "  (features): Sequential(\n",
       "    (0): Conv2d(3, 64, kernel_size=(3, 3), stride=(1, 1), padding=(1, 1))\n",
       "    (1): BatchNorm2d(64, eps=1e-05, momentum=0.1, affine=True, track_running_stats=True)\n",
       "    (2): ReLU(inplace=True)\n",
       "    (3): Conv2d(64, 64, kernel_size=(3, 3), stride=(1, 1), padding=(1, 1))\n",
       "    (4): BatchNorm2d(64, eps=1e-05, momentum=0.1, affine=True, track_running_stats=True)\n",
       "    (5): ReLU(inplace=True)\n",
       "    (6): MaxPool2d(kernel_size=2, stride=2, padding=0, dilation=1, ceil_mode=False)\n",
       "    (7): Conv2d(64, 128, kernel_size=(3, 3), stride=(1, 1), padding=(1, 1))\n",
       "    (8): BatchNorm2d(128, eps=1e-05, momentum=0.1, affine=True, track_running_stats=True)\n",
       "    (9): ReLU(inplace=True)\n",
       "    (10): Conv2d(128, 128, kernel_size=(3, 3), stride=(1, 1), padding=(1, 1))\n",
       "    (11): BatchNorm2d(128, eps=1e-05, momentum=0.1, affine=True, track_running_stats=True)\n",
       "    (12): ReLU(inplace=True)\n",
       "    (13): MaxPool2d(kernel_size=2, stride=2, padding=0, dilation=1, ceil_mode=False)\n",
       "    (14): Conv2d(128, 256, kernel_size=(3, 3), stride=(1, 1), padding=(1, 1))\n",
       "    (15): BatchNorm2d(256, eps=1e-05, momentum=0.1, affine=True, track_running_stats=True)\n",
       "    (16): ReLU(inplace=True)\n",
       "    (17): Conv2d(256, 256, kernel_size=(3, 3), stride=(1, 1), padding=(1, 1))\n",
       "    (18): BatchNorm2d(256, eps=1e-05, momentum=0.1, affine=True, track_running_stats=True)\n",
       "    (19): ReLU(inplace=True)\n",
       "    (20): Conv2d(256, 256, kernel_size=(3, 3), stride=(1, 1), padding=(1, 1))\n",
       "    (21): BatchNorm2d(256, eps=1e-05, momentum=0.1, affine=True, track_running_stats=True)\n",
       "    (22): ReLU(inplace=True)\n",
       "    (23): Conv2d(256, 256, kernel_size=(3, 3), stride=(1, 1), padding=(1, 1))\n",
       "    (24): BatchNorm2d(256, eps=1e-05, momentum=0.1, affine=True, track_running_stats=True)\n",
       "    (25): ReLU(inplace=True)\n",
       "    (26): MaxPool2d(kernel_size=2, stride=2, padding=0, dilation=1, ceil_mode=False)\n",
       "    (27): Conv2d(256, 512, kernel_size=(3, 3), stride=(1, 1), padding=(1, 1))\n",
       "    (28): BatchNorm2d(512, eps=1e-05, momentum=0.1, affine=True, track_running_stats=True)\n",
       "    (29): ReLU(inplace=True)\n",
       "    (30): Conv2d(512, 512, kernel_size=(3, 3), stride=(1, 1), padding=(1, 1))\n",
       "    (31): BatchNorm2d(512, eps=1e-05, momentum=0.1, affine=True, track_running_stats=True)\n",
       "    (32): ReLU(inplace=True)\n",
       "    (33): Conv2d(512, 512, kernel_size=(3, 3), stride=(1, 1), padding=(1, 1))\n",
       "    (34): BatchNorm2d(512, eps=1e-05, momentum=0.1, affine=True, track_running_stats=True)\n",
       "    (35): ReLU(inplace=True)\n",
       "    (36): Conv2d(512, 512, kernel_size=(3, 3), stride=(1, 1), padding=(1, 1))\n",
       "    (37): BatchNorm2d(512, eps=1e-05, momentum=0.1, affine=True, track_running_stats=True)\n",
       "    (38): ReLU(inplace=True)\n",
       "    (39): MaxPool2d(kernel_size=2, stride=2, padding=0, dilation=1, ceil_mode=False)\n",
       "    (40): Conv2d(512, 512, kernel_size=(3, 3), stride=(1, 1), padding=(1, 1))\n",
       "    (41): BatchNorm2d(512, eps=1e-05, momentum=0.1, affine=True, track_running_stats=True)\n",
       "    (42): ReLU(inplace=True)\n",
       "    (43): Conv2d(512, 512, kernel_size=(3, 3), stride=(1, 1), padding=(1, 1))\n",
       "    (44): BatchNorm2d(512, eps=1e-05, momentum=0.1, affine=True, track_running_stats=True)\n",
       "    (45): ReLU(inplace=True)\n",
       "    (46): Conv2d(512, 512, kernel_size=(3, 3), stride=(1, 1), padding=(1, 1))\n",
       "    (47): BatchNorm2d(512, eps=1e-05, momentum=0.1, affine=True, track_running_stats=True)\n",
       "    (48): ReLU(inplace=True)\n",
       "    (49): Conv2d(512, 512, kernel_size=(3, 3), stride=(1, 1), padding=(1, 1))\n",
       "    (50): BatchNorm2d(512, eps=1e-05, momentum=0.1, affine=True, track_running_stats=True)\n",
       "    (51): ReLU(inplace=True)\n",
       "    (52): MaxPool2d(kernel_size=2, stride=2, padding=0, dilation=1, ceil_mode=False)\n",
       "    (53): AvgPool2d(kernel_size=1, stride=1, padding=0)\n",
       "  )\n",
       "  (classifier): Linear(in_features=512, out_features=10, bias=True)\n",
       ")"
      ]
     },
     "execution_count": 51,
     "metadata": {},
     "output_type": "execute_result"
    }
   ],
   "source": [
    "# Loading the nets\n",
    "\n",
    "net1 = VGG('VGG19')\n",
    "net1.load_state_dict(a['net'], strict=False)\n",
    "net1.eval()\n",
    "\n",
    "net2 = VGG('VGG19')\n",
    "net2.load_state_dict(b['net'], strict=False)\n",
    "net2.eval()\n",
    "\n",
    "net3 = VGG('VGG19')\n",
    "net3.load_state_dict(c['net'], strict=False)\n",
    "net3.eval()"
   ]
  },
  {
   "cell_type": "code",
   "execution_count": 52,
   "metadata": {},
   "outputs": [],
   "source": [
    "# # Loading the nets\n",
    "\n",
    "# net1 = Linear_mnist()\n",
    "# net1.load_state_dict(a['net'], strict=False)\n",
    "# net1.eval()\n",
    "\n",
    "# net2 = Linear_mnist()\n",
    "# net2.load_state_dict(aaa['net'], strict=False)\n",
    "# net2.eval()"
   ]
  },
  {
   "cell_type": "code",
   "execution_count": 53,
   "metadata": {},
   "outputs": [
    {
     "name": "stdout",
     "output_type": "stream",
     "text": [
      "Files already downloaded and verified\n",
      "the min entry in the example 0 is tensor(-2.4291)\n",
      "the max entry in the example 0 is tensor(2.4947)\n",
      "the min entry in the example 1 is tensor(-2.4291)\n",
      "the max entry in the example 1 is tensor(1.8162)\n",
      "the min entry in the example 2 is tensor(-2.4291)\n",
      "the max entry in the example 2 is tensor(2.5141)\n"
     ]
    },
    {
     "data": {
      "text/plain": [
       "torch.Size([1, 3, 32, 32])"
      ]
     },
     "execution_count": 53,
     "metadata": {},
     "output_type": "execute_result"
    },
    {
     "data": {
      "image/png": "[encoded data removed]",
      "text/plain": [
       "<Figure size 432x288 with 3 Axes>"
      ]
     },
     "metadata": {},
     "output_type": "display_data"
    }
   ],
   "source": [
    "# loading the data\n",
    "\n",
    "stats = ((0.4914, 0.4822, 0.4465), (0.2023, 0.1994, 0.2010))\n",
    "crop=32\n",
    "classes = ('plane', 'car', 'bird', 'cat', 'deer',\n",
    "           'dog', 'frog', 'horse', 'ship', 'truck')\n",
    "input_dim = [1,3,32,32]\n",
    "num_classes = 10\n",
    "\n",
    "transform_train = transforms.Compose([\n",
    "    transforms.RandomCrop(crop, padding=4),\n",
    "    transforms.RandomHorizontalFlip(),\n",
    "    transforms.ToTensor(),\n",
    "    transforms.Normalize(*stats),\n",
    "])\n",
    "\n",
    "trainset = torchvision.datasets.CIFAR10(\n",
    "    root='./data', train=True, download=True, transform=transform_train)\n",
    "trainloader = torch.utils.data.DataLoader(\n",
    "    trainset, 128, shuffle=True)\n",
    "\n",
    "# plot 6 examples of data point\n",
    "examples = enumerate(trainloader)\n",
    "batch_idx, (example_data, example_targets) = next(examples)\n",
    "example_data.shape\n",
    "\n",
    "for i in range(3):\n",
    "  print('the min entry in the example', i , 'is', torch.min(example_data[i][0]))\n",
    "  print('the max entry in the example', i , 'is', torch.max(example_data[i][0]))\n",
    "\n",
    "fig = plt.figure()\n",
    "for i in range(3):\n",
    "  plt.subplot(2,3,i+1)\n",
    "  plt.tight_layout()\n",
    "  plt.imshow(example_data[i][0], cmap='gray', interpolation='none')\n",
    "  plt.title(\"Ground Truth: {}\".format(example_targets[i]))\n",
    "  plt.xticks([])\n",
    "  plt.yticks([])\n",
    "fig\n",
    "\n",
    "example_data[0:1,:,:,:].size()"
   ]
  },
  {
   "cell_type": "code",
   "execution_count": 54,
   "metadata": {},
   "outputs": [],
   "source": [
    "# c = {} #the difference network\n",
    "# d = 0\n",
    "# for i in a['net']:\n",
    "#     c[i] = a['net'][i]-b['net'][i]\n",
    "#     d = d + (torch.norm(c[i].type(torch.FloatTensor)))**2\n",
    "\n",
    "# d\n",
    "\n",
    "# # net_diff = VGG('VGG19')\n",
    "# net_diff.load_state_dict(c, strict=False)\n",
    "# net_diff.eval()"
   ]
  },
  {
   "cell_type": "code",
   "execution_count": 55,
   "metadata": {},
   "outputs": [],
   "source": [
    "Jac_1 = {}\n",
    "Jac_2 = {}\n",
    "Jac_3 = {}\n",
    "# Jac_diff = {}\n",
    "\n",
    "for i in range(20):\n",
    "    Jac_1[i] = torch.autograd.functional.jacobian(net1, example_data[i:i+1,:,:,:], create_graph = True)\n",
    "    Jac_2[i] = torch.autograd.functional.jacobian(net2, example_data[i:i+1,:,:,:], create_graph = True)\n",
    "    Jac_3[i] = torch.autograd.functional.jacobian(net3, example_data[i:i+1,:,:,:], create_graph = True)\n",
    "#     Jac_diff[i] = torch.autograd.functional.jacobian(net_diff, example_data[i:i+1,:,:,:], create_graph = True)"
   ]
  },
  {
   "cell_type": "code",
   "execution_count": 56,
   "metadata": {},
   "outputs": [
    {
     "name": "stdout",
     "output_type": "stream",
     "text": [
      "on the datapoint 0 we have (1/2) tensor(1.0507, grad_fn=<DivBackward0>) \n",
      "\n",
      "on the datapoint 1 we have (1/2) tensor(1.1062, grad_fn=<DivBackward0>) \n",
      "\n",
      "on the datapoint 2 we have (1/2) tensor(1.0559, grad_fn=<DivBackward0>) \n",
      "\n",
      "on the datapoint 3 we have (1/2) tensor(1.0784, grad_fn=<DivBackward0>) \n",
      "\n",
      "on the datapoint 4 we have (1/2) tensor(1.0219, grad_fn=<DivBackward0>) \n",
      "\n",
      "on the datapoint 5 we have (1/2) tensor(1.0406, grad_fn=<DivBackward0>) \n",
      "\n",
      "on the datapoint 6 we have (1/2) tensor(1.1012, grad_fn=<DivBackward0>) \n",
      "\n",
      "on the datapoint 7 we have (1/2) tensor(1.0057, grad_fn=<DivBackward0>) \n",
      "\n",
      "on the datapoint 8 we have (1/2) tensor(1.0081, grad_fn=<DivBackward0>) \n",
      "\n",
      "on the datapoint 9 we have (1/2) tensor(1.0522, grad_fn=<DivBackward0>) \n",
      "\n",
      "on the datapoint 10 we have (1/2) tensor(1.0638, grad_fn=<DivBackward0>) \n",
      "\n",
      "on the datapoint 11 we have (1/2) tensor(0.9899, grad_fn=<DivBackward0>) \n",
      "\n",
      "on the datapoint 12 we have (1/2) tensor(1.0973, grad_fn=<DivBackward0>) \n",
      "\n",
      "on the datapoint 13 we have (1/2) tensor(1.1108, grad_fn=<DivBackward0>) \n",
      "\n",
      "on the datapoint 14 we have (1/2) tensor(1.0368, grad_fn=<DivBackward0>) \n",
      "\n",
      "on the datapoint 15 we have (1/2) tensor(1.0596, grad_fn=<DivBackward0>) \n",
      "\n",
      "on the datapoint 16 we have (1/2) tensor(1.0618, grad_fn=<DivBackward0>) \n",
      "\n",
      "on the datapoint 17 we have (1/2) tensor(1.0375, grad_fn=<DivBackward0>) \n",
      "\n",
      "on the datapoint 18 we have (1/2) tensor(1.0516, grad_fn=<DivBackward0>) \n",
      "\n",
      "on the datapoint 19 we have (1/2) tensor(1.0578, grad_fn=<DivBackward0>) \n",
      "\n",
      "on the datapoint 0 we have (1/3) tensor(1.0444, grad_fn=<DivBackward0>) \n",
      "\n",
      "on the datapoint 1 we have (1/3) tensor(1.0113, grad_fn=<DivBackward0>) \n",
      "\n",
      "on the datapoint 2 we have (1/3) tensor(0.9604, grad_fn=<DivBackward0>) \n",
      "\n",
      "on the datapoint 3 we have (1/3) tensor(1.0556, grad_fn=<DivBackward0>) \n",
      "\n",
      "on the datapoint 4 we have (1/3) tensor(1.0012, grad_fn=<DivBackward0>) \n",
      "\n",
      "on the datapoint 5 we have (1/3) tensor(1.0303, grad_fn=<DivBackward0>) \n",
      "\n",
      "on the datapoint 6 we have (1/3) tensor(0.9268, grad_fn=<DivBackward0>) \n",
      "\n",
      "on the datapoint 7 we have (1/3) tensor(0.9766, grad_fn=<DivBackward0>) \n",
      "\n",
      "on the datapoint 8 we have (1/3) tensor(1.0341, grad_fn=<DivBackward0>) \n",
      "\n",
      "on the datapoint 9 we have (1/3) tensor(0.9568, grad_fn=<DivBackward0>) \n",
      "\n",
      "on the datapoint 10 we have (1/3) tensor(1.0014, grad_fn=<DivBackward0>) \n",
      "\n",
      "on the datapoint 11 we have (1/3) tensor(0.9643, grad_fn=<DivBackward0>) \n",
      "\n",
      "on the datapoint 12 we have (1/3) tensor(1.0702, grad_fn=<DivBackward0>) \n",
      "\n",
      "on the datapoint 13 we have (1/3) tensor(1.0144, grad_fn=<DivBackward0>) \n",
      "\n",
      "on the datapoint 14 we have (1/3) tensor(0.9908, grad_fn=<DivBackward0>) \n",
      "\n",
      "on the datapoint 15 we have (1/3) tensor(0.9541, grad_fn=<DivBackward0>) \n",
      "\n",
      "on the datapoint 16 we have (1/3) tensor(1.0402, grad_fn=<DivBackward0>) \n",
      "\n",
      "on the datapoint 17 we have (1/3) tensor(1.0320, grad_fn=<DivBackward0>) \n",
      "\n",
      "on the datapoint 18 we have (1/3) tensor(0.9339, grad_fn=<DivBackward0>) \n",
      "\n",
      "on the datapoint 19 we have (1/3) tensor(1.0302, grad_fn=<DivBackward0>) \n",
      "\n"
     ]
    }
   ],
   "source": [
    "v_3 = np.zeros(20)\n",
    "v_4 = np.zeros(20)\n",
    "\n",
    "\n",
    "for i in range(20):\n",
    "#     print('on the datapoint', i, 'the Frobenius norm of the Jacobian of the SGD-trained net is:', torch.norm((Jac_1[i]), p='fro'), 'The one of the label noised:', torch.norm((Jac_2[i])))\n",
    "    print('on the datapoint', i, 'we have (1/2)', (torch.norm((Jac_1[i])) / torch.norm((Jac_2[i]))), '\\n')\n",
    "    v_3[i] = torch.norm((Jac_1[i])) / torch.norm((Jac_2[i]))\n",
    "\n",
    "for i in range(20):\n",
    "    print('on the datapoint', i, 'we have (1/3)', (torch.norm((Jac_1[i])) / torch.norm((Jac_3[i]))), '\\n')\n",
    "    v_4[i] = torch.norm((Jac_1[i])) / torch.norm((Jac_3[i]))\n"
   ]
  },
  {
   "cell_type": "code",
   "execution_count": 57,
   "metadata": {},
   "outputs": [
    {
     "name": "stdout",
     "output_type": "stream",
     "text": [
      "on the datapoint 0 the difference of the two Jacobians is (1-2)/1 tensor(1.3885, grad_fn=<DivBackward0>)\n",
      "on the datapoint 1 the difference of the two Jacobians is (1-2)/1 tensor(1.3490, grad_fn=<DivBackward0>)\n",
      "on the datapoint 2 the difference of the two Jacobians is (1-2)/1 tensor(1.3689, grad_fn=<DivBackward0>)\n",
      "on the datapoint 3 the difference of the two Jacobians is (1-2)/1 tensor(1.3666, grad_fn=<DivBackward0>)\n",
      "on the datapoint 4 the difference of the two Jacobians is (1-2)/1 tensor(1.3971, grad_fn=<DivBackward0>)\n",
      "on the datapoint 5 the difference of the two Jacobians is (1-2)/1 tensor(1.3804, grad_fn=<DivBackward0>)\n",
      "on the datapoint 6 the difference of the two Jacobians is (1-2)/1 tensor(1.3502, grad_fn=<DivBackward0>)\n",
      "on the datapoint 7 the difference of the two Jacobians is (1-2)/1 tensor(1.4106, grad_fn=<DivBackward0>)\n",
      "on the datapoint 8 the difference of the two Jacobians is (1-2)/1 tensor(1.4114, grad_fn=<DivBackward0>)\n",
      "on the datapoint 9 the difference of the two Jacobians is (1-2)/1 tensor(1.3741, grad_fn=<DivBackward0>)\n",
      "on the datapoint 10 the difference of the two Jacobians is (1-2)/1 tensor(1.3720, grad_fn=<DivBackward0>)\n",
      "on the datapoint 11 the difference of the two Jacobians is (1-2)/1 tensor(1.4157, grad_fn=<DivBackward0>)\n",
      "on the datapoint 12 the difference of the two Jacobians is (1-2)/1 tensor(1.3512, grad_fn=<DivBackward0>)\n",
      "on the datapoint 13 the difference of the two Jacobians is (1-2)/1 tensor(1.3372, grad_fn=<DivBackward0>)\n",
      "on the datapoint 14 the difference of the two Jacobians is (1-2)/1 tensor(1.3885, grad_fn=<DivBackward0>)\n",
      "on the datapoint 15 the difference of the two Jacobians is (1-2)/1 tensor(1.3716, grad_fn=<DivBackward0>)\n",
      "on the datapoint 16 the difference of the two Jacobians is (1-2)/1 tensor(1.3743, grad_fn=<DivBackward0>)\n",
      "on the datapoint 17 the difference of the two Jacobians is (1-2)/1 tensor(1.3874, grad_fn=<DivBackward0>)\n",
      "on the datapoint 18 the difference of the two Jacobians is (1-2)/1 tensor(1.3822, grad_fn=<DivBackward0>)\n",
      "on the datapoint 19 the difference of the two Jacobians is (1-2)/1 tensor(1.3722, grad_fn=<DivBackward0>)\n",
      "on the datapoint 0 the difference of the two Jacobians is (1-3)/1 tensor(1.3877, grad_fn=<DivBackward0>)\n",
      "on the datapoint 1 the difference of the two Jacobians is (1-3)/1 tensor(1.4052, grad_fn=<DivBackward0>)\n",
      "on the datapoint 2 the difference of the two Jacobians is (1-3)/1 tensor(1.4376, grad_fn=<DivBackward0>)\n",
      "on the datapoint 3 the difference of the two Jacobians is (1-3)/1 tensor(1.3774, grad_fn=<DivBackward0>)\n",
      "on the datapoint 4 the difference of the two Jacobians is (1-3)/1 tensor(1.4141, grad_fn=<DivBackward0>)\n",
      "on the datapoint 5 the difference of the two Jacobians is (1-3)/1 tensor(1.3877, grad_fn=<DivBackward0>)\n",
      "on the datapoint 6 the difference of the two Jacobians is (1-3)/1 tensor(1.4713, grad_fn=<DivBackward0>)\n",
      "on the datapoint 7 the difference of the two Jacobians is (1-3)/1 tensor(1.4305, grad_fn=<DivBackward0>)\n",
      "on the datapoint 8 the difference of the two Jacobians is (1-3)/1 tensor(1.3919, grad_fn=<DivBackward0>)\n",
      "on the datapoint 9 the difference of the two Jacobians is (1-3)/1 tensor(1.4427, grad_fn=<DivBackward0>)\n",
      "on the datapoint 10 the difference of the two Jacobians is (1-3)/1 tensor(1.4066, grad_fn=<DivBackward0>)\n",
      "on the datapoint 11 the difference of the two Jacobians is (1-3)/1 tensor(1.4474, grad_fn=<DivBackward0>)\n",
      "on the datapoint 12 the difference of the two Jacobians is (1-3)/1 tensor(1.3702, grad_fn=<DivBackward0>)\n",
      "on the datapoint 13 the difference of the two Jacobians is (1-3)/1 tensor(1.4100, grad_fn=<DivBackward0>)\n",
      "on the datapoint 14 the difference of the two Jacobians is (1-3)/1 tensor(1.4172, grad_fn=<DivBackward0>)\n",
      "on the datapoint 15 the difference of the two Jacobians is (1-3)/1 tensor(1.4441, grad_fn=<DivBackward0>)\n",
      "on the datapoint 16 the difference of the two Jacobians is (1-3)/1 tensor(1.3899, grad_fn=<DivBackward0>)\n",
      "on the datapoint 17 the difference of the two Jacobians is (1-3)/1 tensor(1.3853, grad_fn=<DivBackward0>)\n",
      "on the datapoint 18 the difference of the two Jacobians is (1-3)/1 tensor(1.4637, grad_fn=<DivBackward0>)\n",
      "on the datapoint 19 the difference of the two Jacobians is (1-3)/1 tensor(1.3914, grad_fn=<DivBackward0>)\n"
     ]
    }
   ],
   "source": [
    "for i in range(20):\n",
    "#     print('on the datapoint', i, 'the Frobenius norm of the Jacobian of the SGD-trained net is:', torch.norm((Jac_1[i]), p='fro'), 'The one of the label noised:', torch.norm((Jac_2[i])))\n",
    "    print('on the datapoint', i, 'the difference of the two Jacobians is (1-2)/1', torch.norm(Jac_1[i]-Jac_2[i])/torch.norm(Jac_1[i]))\n",
    "#     print('on the datapoint', i, 'the difference of the two neural nets is', torch.norm(net_diff(example_data[i:i+1,:,:,:]))/torch.norm(net1(example_data[i:i+1,:,:,:])))\n",
    "\n",
    "for i in range(20):\n",
    "    print('on the datapoint', i, 'the difference of the two Jacobians is (1-3)/1', torch.norm(Jac_1[i]-Jac_3[i])/torch.norm(Jac_1[i]))\n"
   ]
  },
  {
   "cell_type": "code",
   "execution_count": 58,
   "metadata": {},
   "outputs": [
    {
     "name": "stdout",
     "output_type": "stream",
     "text": [
      "Files already downloaded and verified\n",
      "the min entry in the example 0 is tensor(-2.4291)\n",
      "the max entry in the example 0 is tensor(2.3396)\n",
      "the min entry in the example 1 is tensor(-2.4291)\n",
      "the max entry in the example 1 is tensor(2.2233)\n",
      "the min entry in the example 2 is tensor(-2.4291)\n",
      "the max entry in the example 2 is tensor(1.0602)\n"
     ]
    },
    {
     "data": {
      "image/png": "[encoded data removed]",
      "text/plain": [
       "<Figure size 432x288 with 3 Axes>"
      ]
     },
     "metadata": {},
     "output_type": "display_data"
    }
   ],
   "source": [
    "# loading the data - TEST\n",
    "\n",
    "\n",
    "testset = torchvision.datasets.CIFAR10(\n",
    "    root='./data', train=False, download=True, transform=transform_train)\n",
    "testloader = torch.utils.data.DataLoader(\n",
    "    testset, 128, shuffle=True)\n",
    "\n",
    "# plot 6 examples of data point\n",
    "examples = enumerate(testloader)\n",
    "batch_idx, (example_data, example_targets) = next(examples)\n",
    "example_data.shape\n",
    "\n",
    "for i in range(3):\n",
    "  print('the min entry in the example', i , 'is', torch.min(example_data[i][0]))\n",
    "  print('the max entry in the example', i , 'is', torch.max(example_data[i][0]))\n",
    "\n",
    "fig = plt.figure()\n",
    "for i in range(3):\n",
    "  plt.subplot(2,3,i+1)\n",
    "  plt.tight_layout()\n",
    "  plt.imshow(example_data[i][0], cmap='gray', interpolation='none')\n",
    "  plt.title(\"Ground Truth: {}\".format(example_targets[i]))\n",
    "  plt.xticks([])\n",
    "  plt.yticks([])\n",
    "fig\n",
    "\n",
    "example_data[0:1,:,:,:].size()\n",
    "\n",
    "\n",
    "Jac_4 = {}\n",
    "Jac_5 = {}\n",
    "Jac_6 = {}\n",
    "\n",
    "for i in range(20):\n",
    "    Jac_4[i] = torch.autograd.functional.jacobian(net1, example_data[i:i+1,:,:,:], create_graph = True)\n",
    "    Jac_5[i] = torch.autograd.functional.jacobian(net2, example_data[i:i+1,:,:,:], create_graph = True)\n",
    "    Jac_6[i] = torch.autograd.functional.jacobian(net3, example_data[i:i+1,:,:,:], create_graph = True)"
   ]
  },
  {
   "cell_type": "code",
   "execution_count": 59,
   "metadata": {},
   "outputs": [
    {
     "name": "stdout",
     "output_type": "stream",
     "text": [
      "on the datapoint 0 we have (1/2) tensor(1.0708, grad_fn=<DivBackward0>) \n",
      "\n",
      "on the datapoint 1 we have (1/2) tensor(1.0060, grad_fn=<DivBackward0>) \n",
      "\n",
      "on the datapoint 2 we have (1/2) tensor(1.1786, grad_fn=<DivBackward0>) \n",
      "\n",
      "on the datapoint 3 we have (1/2) tensor(1.0310, grad_fn=<DivBackward0>) \n",
      "\n",
      "on the datapoint 4 we have (1/2) tensor(0.9653, grad_fn=<DivBackward0>) \n",
      "\n",
      "on the datapoint 5 we have (1/2) tensor(0.9999, grad_fn=<DivBackward0>) \n",
      "\n",
      "on the datapoint 6 we have (1/2) tensor(1.1248, grad_fn=<DivBackward0>) \n",
      "\n",
      "on the datapoint 7 we have (1/2) tensor(1.0586, grad_fn=<DivBackward0>) \n",
      "\n",
      "on the datapoint 8 we have (1/2) tensor(1.0653, grad_fn=<DivBackward0>) \n",
      "\n",
      "on the datapoint 9 we have (1/2) tensor(1.0532, grad_fn=<DivBackward0>) \n",
      "\n",
      "on the datapoint 10 we have (1/2) tensor(1.1026, grad_fn=<DivBackward0>) \n",
      "\n",
      "on the datapoint 11 we have (1/2) tensor(1.0884, grad_fn=<DivBackward0>) \n",
      "\n",
      "on the datapoint 12 we have (1/2) tensor(1.0653, grad_fn=<DivBackward0>) \n",
      "\n",
      "on the datapoint 13 we have (1/2) tensor(1.1055, grad_fn=<DivBackward0>) \n",
      "\n",
      "on the datapoint 14 we have (1/2) tensor(1.0217, grad_fn=<DivBackward0>) \n",
      "\n",
      "on the datapoint 15 we have (1/2) tensor(1.1170, grad_fn=<DivBackward0>) \n",
      "\n",
      "on the datapoint 16 we have (1/2) tensor(0.9603, grad_fn=<DivBackward0>) \n",
      "\n",
      "on the datapoint 17 we have (1/2) tensor(1.0572, grad_fn=<DivBackward0>) \n",
      "\n",
      "on the datapoint 18 we have (1/2) tensor(1.1059, grad_fn=<DivBackward0>) \n",
      "\n",
      "on the datapoint 19 we have (1/2) tensor(1.0306, grad_fn=<DivBackward0>) \n",
      "\n",
      "on the datapoint 0 we have (1/3) tensor(0.9361, grad_fn=<DivBackward0>) \n",
      "\n",
      "on the datapoint 1 we have (1/3) tensor(0.9606, grad_fn=<DivBackward0>) \n",
      "\n",
      "on the datapoint 2 we have (1/3) tensor(0.9340, grad_fn=<DivBackward0>) \n",
      "\n",
      "on the datapoint 3 we have (1/3) tensor(1.0337, grad_fn=<DivBackward0>) \n",
      "\n",
      "on the datapoint 4 we have (1/3) tensor(1.0358, grad_fn=<DivBackward0>) \n",
      "\n",
      "on the datapoint 5 we have (1/3) tensor(0.9708, grad_fn=<DivBackward0>) \n",
      "\n",
      "on the datapoint 6 we have (1/3) tensor(0.9361, grad_fn=<DivBackward0>) \n",
      "\n",
      "on the datapoint 7 we have (1/3) tensor(1.0886, grad_fn=<DivBackward0>) \n",
      "\n",
      "on the datapoint 8 we have (1/3) tensor(0.9912, grad_fn=<DivBackward0>) \n",
      "\n",
      "on the datapoint 9 we have (1/3) tensor(1.2460, grad_fn=<DivBackward0>) \n",
      "\n",
      "on the datapoint 10 we have (1/3) tensor(1.0028, grad_fn=<DivBackward0>) \n",
      "\n",
      "on the datapoint 11 we have (1/3) tensor(1.0263, grad_fn=<DivBackward0>) \n",
      "\n",
      "on the datapoint 12 we have (1/3) tensor(1.0683, grad_fn=<DivBackward0>) \n",
      "\n",
      "on the datapoint 13 we have (1/3) tensor(1.0039, grad_fn=<DivBackward0>) \n",
      "\n",
      "on the datapoint 14 we have (1/3) tensor(0.9807, grad_fn=<DivBackward0>) \n",
      "\n",
      "on the datapoint 15 we have (1/3) tensor(1.1529, grad_fn=<DivBackward0>) \n",
      "\n",
      "on the datapoint 16 we have (1/3) tensor(1.0378, grad_fn=<DivBackward0>) \n",
      "\n",
      "on the datapoint 17 we have (1/3) tensor(1.0569, grad_fn=<DivBackward0>) \n",
      "\n",
      "on the datapoint 18 we have (1/3) tensor(0.9493, grad_fn=<DivBackward0>) \n",
      "\n",
      "on the datapoint 19 we have (1/3) tensor(1.0162, grad_fn=<DivBackward0>) \n",
      "\n"
     ]
    }
   ],
   "source": [
    "v_1 = np.zeros(20)\n",
    "v_2 = np.zeros(20)\n",
    "\n",
    "for i in range(20):\n",
    "#     print('on the datapoint', i, 'the Frobenius norm of the Jacobian of the SGD-trained net is:', torch.norm((Jac_1[i]), p='fro'), 'The one of the label noised:', torch.norm((Jac_2[i])))\n",
    "    print('on the datapoint', i, 'we have (1/2)', (torch.norm((Jac_4[i])) / torch.norm((Jac_5[i]))), '\\n')\n",
    "    \n",
    "    v_1[i] = torch.norm((Jac_4[i])) / torch.norm((Jac_5[i]))\n",
    "\n",
    "for i in range(20):\n",
    "    print('on the datapoint', i, 'we have (1/3)', (torch.norm((Jac_4[i])) / torch.norm((Jac_6[i]))), '\\n')\n",
    "    \n",
    "    v_2[i] = torch.norm((Jac_4[i])) / torch.norm((Jac_6[i]))\n",
    "    \n"
   ]
  },
  {
   "cell_type": "code",
   "execution_count": 60,
   "metadata": {},
   "outputs": [
    {
     "data": {
      "text/plain": [
       "array([0.93608248, 0.96057737, 0.93401504, 1.03365958, 1.03578985,\n",
       "       0.9708277 , 0.9360742 , 1.08861423, 0.99120754, 1.24596071,\n",
       "       1.00276423, 1.02628911, 1.06829071, 1.00387979, 0.98070389,\n",
       "       1.1529454 , 1.03780949, 1.05686963, 0.9492566 , 1.01622534])"
      ]
     },
     "execution_count": 60,
     "metadata": {},
     "output_type": "execute_result"
    }
   ],
   "source": [
    "v_2"
   ]
  },
  {
   "cell_type": "markdown",
   "metadata": {},
   "source": [
    "# Plotting the results"
   ]
  },
  {
   "cell_type": "code",
   "execution_count": 61,
   "metadata": {},
   "outputs": [],
   "source": [
    "toplot = {\n",
    "    'train - 0.2': {'color': 'C0'},\n",
    "    'test - 0.2': { 'color': \"C1\"},\n",
    "    'train - 0.5': {'color': 'C2'},\n",
    "    'test - 0.5': { 'color': \"C3\"},\n",
    "}\n",
    " \n",
    "results = {}\n",
    "\n",
    "for label, fields in toplot.items():\n",
    "        if label == 'train - 0.2':\n",
    "           # accuracy_adam = mean_ad\n",
    "            results[label] = v_3\n",
    "        if label == 'test - 0.2':\n",
    "          #  accuracy_da = mean\n",
    "            results[label] = v_1\n",
    "        if label == 'train - 0.5':\n",
    "           # accuracy_adam = mean_ad\n",
    "            results[label] = v_4\n",
    "        if label == 'test - 0.5':\n",
    "          #  accuracy_da = mean\n",
    "            results[label] = v_2\n",
    "            \n",
    "            \n",
    "accuracy = {}\n",
    "\n",
    "for label, fields in toplot.items():\n",
    "        if label == 'train - 0.2':\n",
    "           # accuracy_adam = mean_ad\n",
    "            accuracy[label] = ('Train loss '+ (b['train_loss_array'][-1].astype('str'))[:6])\n",
    "        if label == 'test - 0.2':\n",
    "          #  accuracy_da = mean\n",
    "            accuracy[label] = ('Test accuracy '+str(b['best_acc']))\n",
    "        if label == 'train - 0.5':\n",
    "           # accuracy_adam = mean_ad\n",
    "            accuracy[label] = ('Train loss '+(c['train_loss_array'][-1].astype('str'))[:6])\n",
    "        if label == 'test - 0.5':\n",
    "          #  accuracy_da = mean\n",
    "            accuracy[label] = ('Test accuracy '+str(c['best_acc']))"
   ]
  },
  {
   "cell_type": "code",
   "execution_count": 62,
   "metadata": {},
   "outputs": [
    {
     "data": {
      "text/plain": [
       "{'train - 0.2': 'Train loss 0.0014',\n",
       " 'test - 0.2': 'Test accuracy 94.09',\n",
       " 'train - 0.5': 'Train loss 0.0014',\n",
       " 'test - 0.5': 'Test accuracy 94.09'}"
      ]
     },
     "execution_count": 62,
     "metadata": {},
     "output_type": "execute_result"
    }
   ],
   "source": [
    "accuracy"
   ]
  },
  {
   "cell_type": "code",
   "execution_count": 63,
   "metadata": {},
   "outputs": [
    {
     "name": "stdout",
     "output_type": "stream",
     "text": [
      "Saved jacobian_norm_ratio_128_cifar10_1.pdf\n"
     ]
    },
    {
     "data": {
      "image/png": "[encoded data removed]",
      "text/plain": [
       "<Figure size 432x288 with 1 Axes>"
      ]
     },
     "metadata": {
      "needs_background": "light"
     },
     "output_type": "display_data"
    }
   ],
   "source": [
    "mpl.rcParams['font.family'] = 'serif'\n",
    "mpl.rcParams['axes.titlesize'] = 12\n",
    "mpl.rcParams['axes.labelsize'] = 12\n",
    "mpl.rcParams['font.size'] = 12\n",
    "mpl.rcParams['legend.fontsize'] = 12\n",
    "linewidth = '0.4'\n",
    "mpl.rcParams['lines.linewidth'] = 1\n",
    "mpl.rcParams['axes.linewidth'] = linewidth\n",
    "mpl.rcParams['xtick.major.width'] = linewidth\n",
    "mpl.rcParams['ytick.major.width'] = linewidth\n",
    "\n",
    "fig = plt.figure()\n",
    "\n",
    "ax = fig.add_subplot(1, 1, 1)\n",
    "for res1 in results.items():\n",
    "    lbl = res1[0]\n",
    "    arr_data = res1[1]#[0]\n",
    "    xp = np.array(range(len(arr_data)))\n",
    "    fields = toplot[lbl]\n",
    "    label = f\"{lbl} ({accuracy[lbl]})\"\n",
    "    ax.plot(xp, arr_data, label=label)\n",
    "\n",
    "plt.xticks(range(1,21,4))\n",
    "ax.set_xlabel('points in the dataset')\n",
    "ax.set_ylabel('ration of the norms of the Jacobians')\n",
    "ax.set_title(\"Linear setting - Jacobian norm ratio\")\n",
    "ax.legend(loc='upper left')\n",
    "\n",
    "fname = \"jacobian_norm_ratio_128_cifar10_1.pdf\"\n",
    "plt.savefig(fname)\n",
    "print(f\"Saved {fname}\")"
   ]
  },
  {
   "cell_type": "code",
   "execution_count": null,
   "metadata": {},
   "outputs": [],
   "source": []
  },
  {
   "cell_type": "code",
   "execution_count": null,
   "metadata": {},
   "outputs": [],
   "source": []
  }
 ],
 "metadata": {
  "kernelspec": {
   "display_name": "Python 3",
   "language": "python",
   "name": "python3"
  },
  "language_info": {
   "codemirror_mode": {
    "name": "ipython",
    "version": 3
   },
   "file_extension": ".py",
   "mimetype": "text/x-python",
   "name": "python",
   "nbconvert_exporter": "python",
   "pygments_lexer": "ipython3",
   "version": "3.8.3"
  }
 },
 "nbformat": 4,
 "nbformat_minor": 4
}
