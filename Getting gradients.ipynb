{
 "cells": [
  {
   "cell_type": "code",
   "execution_count": 91,
   "metadata": {},
   "outputs": [],
   "source": [
    "import torch\n",
    "import torchvision\n",
    "import torchvision.transforms as transforms\n",
    "\n",
    "import matplotlib.pyplot as plt\n",
    "from models import *"
   ]
  },
  {
   "cell_type": "code",
   "execution_count": 203,
   "metadata": {},
   "outputs": [],
   "source": [
    "a = torch.load('tiger_files/pb29/checkpoint/final/synthetic_linear_net/FINAL_dataset_MNIST-model_linear-epoch_30-label_noise_prob_0-input_gaussian_noise_0-gaussian_noise_SD_0-noise_decay_fixed-batch_size_64-lr_1.0.pt', map_location ='cpu')\n",
    "\n",
    "b = torch.load('tiger_files/pb29/checkpoint/final/synthetic_linear_net/FINAL_dataset_MNIST-model_linear-epoch_30-label_noise_prob_0.2-input_gaussian_noise_0-gaussian_noise_SD_0-noise_decay_fixed-batch_size_64-lr_1.0.pt', map_location ='cpu')"
   ]
  },
  {
   "cell_type": "code",
   "execution_count": 204,
   "metadata": {},
   "outputs": [
    {
     "name": "stdout",
     "output_type": "stream",
     "text": [
      "train loss: 0.0038673399466400346 0.0038673399466400346\n",
      "test accuracy: 92.44 92.44 \n",
      " None\n"
     ]
    },
    {
     "data": {
      "text/plain": [
       "array([87.81, 88.04, 91.34, 90.89, 91.94, 91.93, 92.26, 92.37, 92.5 ,\n",
       "       92.37, 92.45, 92.5 , 92.38, 92.46, 92.4 , 92.42, 92.41, 92.38,\n",
       "       92.47, 92.42, 92.44, 92.45, 92.44, 92.44, 92.44, 92.44, 92.44,\n",
       "       92.44, 92.44, 92.44])"
      ]
     },
     "execution_count": 204,
     "metadata": {},
     "output_type": "execute_result"
    }
   ],
   "source": [
    "print('test accuracy:', a['test_acc_array'][-1], b['test_acc_array'][-1], '\\n', print('train loss:', a['train_loss_array'][-1], b['train_loss_array'][-1]))\n",
    "\n",
    "b['test_acc_array'][-30:]"
   ]
  },
  {
   "cell_type": "code",
   "execution_count": 205,
   "metadata": {
    "scrolled": true
   },
   "outputs": [
    {
     "data": {
      "text/plain": [
       "VGG(\n",
       "  (features): Sequential(\n",
       "    (0): Conv2d(3, 64, kernel_size=(3, 3), stride=(1, 1), padding=(1, 1))\n",
       "    (1): BatchNorm2d(64, eps=1e-05, momentum=0.1, affine=True, track_running_stats=True)\n",
       "    (2): ReLU(inplace=True)\n",
       "    (3): Conv2d(64, 64, kernel_size=(3, 3), stride=(1, 1), padding=(1, 1))\n",
       "    (4): BatchNorm2d(64, eps=1e-05, momentum=0.1, affine=True, track_running_stats=True)\n",
       "    (5): ReLU(inplace=True)\n",
       "    (6): MaxPool2d(kernel_size=2, stride=2, padding=0, dilation=1, ceil_mode=False)\n",
       "    (7): Conv2d(64, 128, kernel_size=(3, 3), stride=(1, 1), padding=(1, 1))\n",
       "    (8): BatchNorm2d(128, eps=1e-05, momentum=0.1, affine=True, track_running_stats=True)\n",
       "    (9): ReLU(inplace=True)\n",
       "    (10): Conv2d(128, 128, kernel_size=(3, 3), stride=(1, 1), padding=(1, 1))\n",
       "    (11): BatchNorm2d(128, eps=1e-05, momentum=0.1, affine=True, track_running_stats=True)\n",
       "    (12): ReLU(inplace=True)\n",
       "    (13): MaxPool2d(kernel_size=2, stride=2, padding=0, dilation=1, ceil_mode=False)\n",
       "    (14): Conv2d(128, 256, kernel_size=(3, 3), stride=(1, 1), padding=(1, 1))\n",
       "    (15): BatchNorm2d(256, eps=1e-05, momentum=0.1, affine=True, track_running_stats=True)\n",
       "    (16): ReLU(inplace=True)\n",
       "    (17): Conv2d(256, 256, kernel_size=(3, 3), stride=(1, 1), padding=(1, 1))\n",
       "    (18): BatchNorm2d(256, eps=1e-05, momentum=0.1, affine=True, track_running_stats=True)\n",
       "    (19): ReLU(inplace=True)\n",
       "    (20): Conv2d(256, 256, kernel_size=(3, 3), stride=(1, 1), padding=(1, 1))\n",
       "    (21): BatchNorm2d(256, eps=1e-05, momentum=0.1, affine=True, track_running_stats=True)\n",
       "    (22): ReLU(inplace=True)\n",
       "    (23): Conv2d(256, 256, kernel_size=(3, 3), stride=(1, 1), padding=(1, 1))\n",
       "    (24): BatchNorm2d(256, eps=1e-05, momentum=0.1, affine=True, track_running_stats=True)\n",
       "    (25): ReLU(inplace=True)\n",
       "    (26): MaxPool2d(kernel_size=2, stride=2, padding=0, dilation=1, ceil_mode=False)\n",
       "    (27): Conv2d(256, 512, kernel_size=(3, 3), stride=(1, 1), padding=(1, 1))\n",
       "    (28): BatchNorm2d(512, eps=1e-05, momentum=0.1, affine=True, track_running_stats=True)\n",
       "    (29): ReLU(inplace=True)\n",
       "    (30): Conv2d(512, 512, kernel_size=(3, 3), stride=(1, 1), padding=(1, 1))\n",
       "    (31): BatchNorm2d(512, eps=1e-05, momentum=0.1, affine=True, track_running_stats=True)\n",
       "    (32): ReLU(inplace=True)\n",
       "    (33): Conv2d(512, 512, kernel_size=(3, 3), stride=(1, 1), padding=(1, 1))\n",
       "    (34): BatchNorm2d(512, eps=1e-05, momentum=0.1, affine=True, track_running_stats=True)\n",
       "    (35): ReLU(inplace=True)\n",
       "    (36): Conv2d(512, 512, kernel_size=(3, 3), stride=(1, 1), padding=(1, 1))\n",
       "    (37): BatchNorm2d(512, eps=1e-05, momentum=0.1, affine=True, track_running_stats=True)\n",
       "    (38): ReLU(inplace=True)\n",
       "    (39): MaxPool2d(kernel_size=2, stride=2, padding=0, dilation=1, ceil_mode=False)\n",
       "    (40): Conv2d(512, 512, kernel_size=(3, 3), stride=(1, 1), padding=(1, 1))\n",
       "    (41): BatchNorm2d(512, eps=1e-05, momentum=0.1, affine=True, track_running_stats=True)\n",
       "    (42): ReLU(inplace=True)\n",
       "    (43): Conv2d(512, 512, kernel_size=(3, 3), stride=(1, 1), padding=(1, 1))\n",
       "    (44): BatchNorm2d(512, eps=1e-05, momentum=0.1, affine=True, track_running_stats=True)\n",
       "    (45): ReLU(inplace=True)\n",
       "    (46): Conv2d(512, 512, kernel_size=(3, 3), stride=(1, 1), padding=(1, 1))\n",
       "    (47): BatchNorm2d(512, eps=1e-05, momentum=0.1, affine=True, track_running_stats=True)\n",
       "    (48): ReLU(inplace=True)\n",
       "    (49): Conv2d(512, 512, kernel_size=(3, 3), stride=(1, 1), padding=(1, 1))\n",
       "    (50): BatchNorm2d(512, eps=1e-05, momentum=0.1, affine=True, track_running_stats=True)\n",
       "    (51): ReLU(inplace=True)\n",
       "    (52): MaxPool2d(kernel_size=2, stride=2, padding=0, dilation=1, ceil_mode=False)\n",
       "    (53): AvgPool2d(kernel_size=1, stride=1, padding=0)\n",
       "  )\n",
       "  (classifier): Linear(in_features=512, out_features=10, bias=True)\n",
       ")"
      ]
     },
     "execution_count": 205,
     "metadata": {},
     "output_type": "execute_result"
    }
   ],
   "source": [
    "# Loading the nets\n",
    "\n",
    "net1 = VGG('VGG19')\n",
    "net1.load_state_dict(a['net'], strict=False)\n",
    "net1.eval()\n",
    "\n",
    "net2 = VGG('VGG19')\n",
    "net2.load_state_dict(b['net'], strict=False)\n",
    "net2.eval()"
   ]
  },
  {
   "cell_type": "code",
   "execution_count": 206,
   "metadata": {},
   "outputs": [
    {
     "name": "stdout",
     "output_type": "stream",
     "text": [
      "Files already downloaded and verified\n",
      "the min entry in the example 0 is tensor(-2.4291)\n",
      "the max entry in the example 0 is tensor(1.8938)\n",
      "the min entry in the example 1 is tensor(-2.4291)\n",
      "the max entry in the example 1 is tensor(1.2541)\n",
      "the min entry in the example 2 is tensor(-2.4291)\n",
      "the max entry in the example 2 is tensor(0.8276)\n"
     ]
    },
    {
     "data": {
      "text/plain": [
       "torch.Size([1, 3, 32, 32])"
      ]
     },
     "execution_count": 206,
     "metadata": {},
     "output_type": "execute_result"
    },
    {
     "data": {
      "image/png": "[encoded data removed]",
      "text/plain": [
       "<Figure size 432x288 with 3 Axes>"
      ]
     },
     "metadata": {},
     "output_type": "display_data"
    }
   ],
   "source": [
    "# loading the data\n",
    "\n",
    "stats = ((0.4914, 0.4822, 0.4465), (0.2023, 0.1994, 0.2010))\n",
    "crop=32\n",
    "classes = ('plane', 'car', 'bird', 'cat', 'deer',\n",
    "           'dog', 'frog', 'horse', 'ship', 'truck')\n",
    "input_dim = [1,3,32,32]\n",
    "num_classes = 10\n",
    "\n",
    "transform_train = transforms.Compose([\n",
    "    transforms.RandomCrop(crop, padding=4),\n",
    "    transforms.RandomHorizontalFlip(),\n",
    "    transforms.ToTensor(),\n",
    "    transforms.Normalize(*stats),\n",
    "])\n",
    "\n",
    "trainset = torchvision.datasets.CIFAR10(\n",
    "    root='./data', train=True, download=True, transform=transform_train)\n",
    "trainloader = torch.utils.data.DataLoader(\n",
    "    trainset, 128, shuffle=True)\n",
    "\n",
    "# plot 6 examples of data point\n",
    "examples = enumerate(trainloader)\n",
    "batch_idx, (example_data, example_targets) = next(examples)\n",
    "example_data.shape\n",
    "\n",
    "for i in range(3):\n",
    "  print('the min entry in the example', i , 'is', torch.min(example_data[i][0]))\n",
    "  print('the max entry in the example', i , 'is', torch.max(example_data[i][0]))\n",
    "\n",
    "fig = plt.figure()\n",
    "for i in range(3):\n",
    "  plt.subplot(2,3,i+1)\n",
    "  plt.tight_layout()\n",
    "  plt.imshow(example_data[i][0], cmap='gray', interpolation='none')\n",
    "  plt.title(\"Ground Truth: {}\".format(example_targets[i]))\n",
    "  plt.xticks([])\n",
    "  plt.yticks([])\n",
    "fig\n",
    "\n",
    "example_data[0:1,:,:,:].size()"
   ]
  },
  {
   "cell_type": "code",
   "execution_count": 207,
   "metadata": {},
   "outputs": [],
   "source": [
    "Jac_1 = {}\n",
    "Jac_2 = {}\n",
    "\n",
    "for i in range(20):\n",
    "    Jac_1[i] = torch.autograd.functional.jacobian(net1, example_data[i:i+1,:,:,:], create_graph = True)\n",
    "    Jac_2[i] = torch.autograd.functional.jacobian(net2, example_data[i:i+1,:,:,:], create_graph = True)"
   ]
  },
  {
   "cell_type": "code",
   "execution_count": 208,
   "metadata": {},
   "outputs": [],
   "source": [
    "# Jac_1[0] == Jac_2[0]"
   ]
  },
  {
   "cell_type": "code",
   "execution_count": 209,
   "metadata": {},
   "outputs": [
    {
     "name": "stdout",
     "output_type": "stream",
     "text": [
      "on the datapoint 0 we have tensor(1.0113, grad_fn=<DivBackward0>) \n",
      "\n",
      "on the datapoint 1 we have tensor(0.9301, grad_fn=<DivBackward0>) \n",
      "\n",
      "on the datapoint 2 we have tensor(1.0263, grad_fn=<DivBackward0>) \n",
      "\n",
      "on the datapoint 3 we have tensor(1.0088, grad_fn=<DivBackward0>) \n",
      "\n",
      "on the datapoint 4 we have tensor(1.0626, grad_fn=<DivBackward0>) \n",
      "\n",
      "on the datapoint 5 we have tensor(0.9955, grad_fn=<DivBackward0>) \n",
      "\n",
      "on the datapoint 6 we have tensor(1.0174, grad_fn=<DivBackward0>) \n",
      "\n",
      "on the datapoint 7 we have tensor(0.9911, grad_fn=<DivBackward0>) \n",
      "\n",
      "on the datapoint 8 we have tensor(1.0199, grad_fn=<DivBackward0>) \n",
      "\n",
      "on the datapoint 9 we have tensor(0.9791, grad_fn=<DivBackward0>) \n",
      "\n",
      "on the datapoint 10 we have tensor(0.9678, grad_fn=<DivBackward0>) \n",
      "\n",
      "on the datapoint 11 we have tensor(1.0417, grad_fn=<DivBackward0>) \n",
      "\n",
      "on the datapoint 12 we have tensor(1.0360, grad_fn=<DivBackward0>) \n",
      "\n",
      "on the datapoint 13 we have tensor(0.9720, grad_fn=<DivBackward0>) \n",
      "\n",
      "on the datapoint 14 we have tensor(1.0159, grad_fn=<DivBackward0>) \n",
      "\n",
      "on the datapoint 15 we have tensor(1.0230, grad_fn=<DivBackward0>) \n",
      "\n",
      "on the datapoint 16 we have tensor(1.0001, grad_fn=<DivBackward0>) \n",
      "\n",
      "on the datapoint 17 we have tensor(1.0341, grad_fn=<DivBackward0>) \n",
      "\n",
      "on the datapoint 18 we have tensor(0.9577, grad_fn=<DivBackward0>) \n",
      "\n",
      "on the datapoint 19 we have tensor(1.0165, grad_fn=<DivBackward0>) \n",
      "\n"
     ]
    }
   ],
   "source": [
    "\n",
    "\n",
    "for i in range(20):\n",
    "#     print('on the datapoint', i, 'the Frobenius norm of the Jacobian of the SGD-trained net is:', torch.norm((Jac_1[i]), p='fro'), 'The one of the label noised:', torch.norm((Jac_2[i])))\n",
    "    print('on the datapoint', i, 'we have', (torch.norm((Jac_1[i])) / torch.norm((Jac_2[i]))), '\\n')\n",
    "    \n"
   ]
  },
  {
   "cell_type": "code",
   "execution_count": 210,
   "metadata": {},
   "outputs": [
    {
     "name": "stdout",
     "output_type": "stream",
     "text": [
      "Files already downloaded and verified\n",
      "the min entry in the example 0 is tensor(-2.4291)\n",
      "the max entry in the example 0 is tensor(2.3978)\n",
      "the min entry in the example 1 is tensor(-2.4291)\n",
      "the max entry in the example 1 is tensor(2.5141)\n",
      "the min entry in the example 2 is tensor(-2.4291)\n",
      "the max entry in the example 2 is tensor(2.4365)\n"
     ]
    },
    {
     "data": {
      "image/png": "[encoded data removed]",
      "text/plain": [
       "<Figure size 432x288 with 3 Axes>"
      ]
     },
     "metadata": {},
     "output_type": "display_data"
    }
   ],
   "source": [
    "# loading the data - TEST\n",
    "\n",
    "\n",
    "testset = torchvision.datasets.CIFAR10(\n",
    "    root='./data', train=False, download=True, transform=transform_train)\n",
    "testloader = torch.utils.data.DataLoader(\n",
    "    testset, 128, shuffle=True)\n",
    "\n",
    "# plot 6 examples of data point\n",
    "examples = enumerate(testloader)\n",
    "batch_idx, (example_data, example_targets) = next(examples)\n",
    "example_data.shape\n",
    "\n",
    "for i in range(3):\n",
    "  print('the min entry in the example', i , 'is', torch.min(example_data[i][0]))\n",
    "  print('the max entry in the example', i , 'is', torch.max(example_data[i][0]))\n",
    "\n",
    "fig = plt.figure()\n",
    "for i in range(3):\n",
    "  plt.subplot(2,3,i+1)\n",
    "  plt.tight_layout()\n",
    "  plt.imshow(example_data[i][0], cmap='gray', interpolation='none')\n",
    "  plt.title(\"Ground Truth: {}\".format(example_targets[i]))\n",
    "  plt.xticks([])\n",
    "  plt.yticks([])\n",
    "fig\n",
    "\n",
    "example_data[0:1,:,:,:].size()\n",
    "\n",
    "\n",
    "Jac_1 = {}\n",
    "Jac_2 = {}\n",
    "\n",
    "for i in range(20):\n",
    "    Jac_1[i] = torch.autograd.functional.jacobian(net1, example_data[i:i+1,:,:,:], create_graph = True)\n",
    "    Jac_2[i] = torch.autograd.functional.jacobian(net2, example_data[i:i+1,:,:,:], create_graph = True)"
   ]
  },
  {
   "cell_type": "code",
   "execution_count": 211,
   "metadata": {},
   "outputs": [
    {
     "name": "stdout",
     "output_type": "stream",
     "text": [
      "on the datapoint 0 we have tensor(0.9998, grad_fn=<DivBackward0>) \n",
      "\n",
      "on the datapoint 1 we have tensor(1.0470, grad_fn=<DivBackward0>) \n",
      "\n",
      "on the datapoint 2 we have tensor(1.0139, grad_fn=<DivBackward0>) \n",
      "\n",
      "on the datapoint 3 we have tensor(0.9752, grad_fn=<DivBackward0>) \n",
      "\n",
      "on the datapoint 4 we have tensor(0.9874, grad_fn=<DivBackward0>) \n",
      "\n",
      "on the datapoint 5 we have tensor(1.0453, grad_fn=<DivBackward0>) \n",
      "\n",
      "on the datapoint 6 we have tensor(1.0050, grad_fn=<DivBackward0>) \n",
      "\n",
      "on the datapoint 7 we have tensor(1.0088, grad_fn=<DivBackward0>) \n",
      "\n",
      "on the datapoint 8 we have tensor(1.0035, grad_fn=<DivBackward0>) \n",
      "\n",
      "on the datapoint 9 we have tensor(1.0539, grad_fn=<DivBackward0>) \n",
      "\n",
      "on the datapoint 10 we have tensor(0.9509, grad_fn=<DivBackward0>) \n",
      "\n",
      "on the datapoint 11 we have tensor(1.0489, grad_fn=<DivBackward0>) \n",
      "\n",
      "on the datapoint 12 we have tensor(0.9854, grad_fn=<DivBackward0>) \n",
      "\n",
      "on the datapoint 13 we have tensor(1.0164, grad_fn=<DivBackward0>) \n",
      "\n",
      "on the datapoint 14 we have tensor(0.9650, grad_fn=<DivBackward0>) \n",
      "\n",
      "on the datapoint 15 we have tensor(1.0343, grad_fn=<DivBackward0>) \n",
      "\n",
      "on the datapoint 16 we have tensor(0.9915, grad_fn=<DivBackward0>) \n",
      "\n",
      "on the datapoint 17 we have tensor(0.9942, grad_fn=<DivBackward0>) \n",
      "\n",
      "on the datapoint 18 we have tensor(1.0164, grad_fn=<DivBackward0>) \n",
      "\n",
      "on the datapoint 19 we have tensor(1.0040, grad_fn=<DivBackward0>) \n",
      "\n"
     ]
    }
   ],
   "source": [
    "\n",
    "for i in range(20):\n",
    "#     print('on the datapoint', i, 'the Frobenius norm of the Jacobian of the SGD-trained net is:', torch.norm((Jac_1[i]), p='fro'), 'The one of the label noised:', torch.norm((Jac_2[i])))\n",
    "    print('on the datapoint', i, 'we have', (torch.norm((Jac_1[i])) / torch.norm((Jac_2[i]))), '\\n')\n",
    "    \n"
   ]
  },
  {
   "cell_type": "code",
   "execution_count": null,
   "metadata": {},
   "outputs": [],
   "source": []
  },
  {
   "cell_type": "code",
   "execution_count": null,
   "metadata": {},
   "outputs": [],
   "source": []
  },
  {
   "cell_type": "code",
   "execution_count": null,
   "metadata": {},
   "outputs": [],
   "source": []
  },
  {
   "cell_type": "code",
   "execution_count": null,
   "metadata": {},
   "outputs": [],
   "source": []
  },
  {
   "cell_type": "code",
   "execution_count": null,
   "metadata": {},
   "outputs": [],
   "source": []
  }
 ],
 "metadata": {
  "kernelspec": {
   "display_name": "Python 3",
   "language": "python",
   "name": "python3"
  },
  "language_info": {
   "codemirror_mode": {
    "name": "ipython",
    "version": 3
   },
   "file_extension": ".py",
   "mimetype": "text/x-python",
   "name": "python",
   "nbconvert_exporter": "python",
   "pygments_lexer": "ipython3",
   "version": "3.8.3"
  }
 },
 "nbformat": 4,
 "nbformat_minor": 4
}
