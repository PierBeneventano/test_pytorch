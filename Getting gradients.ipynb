{
 "cells": [
  {
   "cell_type": "code",
   "execution_count": 51,
   "metadata": {},
   "outputs": [],
   "source": [
    "import torch\n",
    "import torchvision\n",
    "import torchvision.transforms as transforms\n",
    "\n",
    "import matplotlib.pyplot as plt\n",
    "from models import *"
   ]
  },
  {
   "cell_type": "code",
   "execution_count": 76,
   "metadata": {},
   "outputs": [],
   "source": [
    "a = torch.load('tiger_files/pb29/checkpoint/final/FINAL_dataset_cifar10-model_vgg-epoch_200-label_noise_prob_0-input_gaussian_noise_0-gaussian_noise_SD_0-noise_decay_fixed-batch_size_128.pt', map_location ='cpu')\n",
    "\n",
    "b = torch.load('tiger_files/pb29/checkpoint/final/FINAL_dataset_cifar10-model_vgg-epoch_200-label_noise_prob_0.2-input_gaussian_noise_0-gaussian_noise_SD_0-noise_decay_decay-batch_size_1024.pt', map_location ='cpu')\n",
    "\n",
    "c = torch.load('tiger_files/pb29/checkpoint/final/FINAL_dataset_cifar10-model_vgg-epoch_200-label_noise_prob_0.2-input_gaussian_noise_0-gaussian_noise_SD_0-noise_decay_decay-batch_size_4096.pt', map_location ='cpu')\n",
    "\n"
   ]
  },
  {
   "cell_type": "code",
   "execution_count": 77,
   "metadata": {},
   "outputs": [
    {
     "name": "stdout",
     "output_type": "stream",
     "text": [
      "test accuracy: 93.78 92.31 88.99 \n",
      "\n",
      "train loss: 0.001282942761658736 0.001075408751696196 0.004439453469016231\n"
     ]
    },
    {
     "data": {
      "text/plain": [
       "array([12.36, 22.25, 26.04, 34.59, 39.22, 62.68, 66.1 , 67.64, 71.6 ,\n",
       "       68.18, 69.65, 67.47, 65.81, 76.05, 76.44, 72.21, 77.25, 79.45,\n",
       "       75.64, 79.09, 77.54, 77.92, 77.77, 79.03, 80.85, 77.69, 82.65,\n",
       "       81.63, 74.83, 68.76, 81.46, 80.41, 71.22, 79.91, 76.23, 80.68,\n",
       "       82.64, 75.75, 80.89, 81.41, 78.66, 81.28, 82.27, 79.37, 81.4 ,\n",
       "       81.73, 70.95, 81.17, 83.93, 79.09, 80.27, 82.24, 79.54, 83.94,\n",
       "       81.62, 80.24, 80.65, 76.89, 82.75, 78.96, 81.72, 82.41, 80.35,\n",
       "       80.06, 73.72, 81.36, 82.77, 85.02, 82.  , 82.23, 83.02, 83.76,\n",
       "       84.18, 81.64, 84.82, 82.61, 83.73, 79.87, 84.65, 83.25, 82.17,\n",
       "       83.4 , 84.29, 82.84, 78.34, 84.68, 85.96, 81.72, 86.43, 81.22,\n",
       "       85.56, 86.32, 84.17, 85.57, 86.27, 82.72, 87.09, 87.56, 85.31,\n",
       "       84.41, 83.68, 85.28, 85.24, 84.74, 85.98, 88.31, 84.82, 87.29,\n",
       "       88.24, 87.53, 86.11, 88.06, 88.04, 86.84, 86.81, 87.94, 87.29,\n",
       "       87.56, 85.92, 89.37, 88.2 , 88.69, 88.58, 88.86, 89.89, 86.71,\n",
       "       87.02, 89.38, 86.16, 88.91, 88.46, 90.19, 88.42, 87.71, 89.73,\n",
       "       89.92, 90.77, 89.3 , 88.25, 90.03, 88.81, 90.84, 90.32, 90.84,\n",
       "       90.42, 88.83, 90.6 , 90.45, 90.36, 90.23, 91.12, 90.46, 90.96,\n",
       "       91.03, 90.93, 91.11, 91.01, 90.87, 91.78, 91.63, 91.29, 91.03,\n",
       "       90.88, 91.74, 91.61, 91.52, 92.04, 92.41, 92.66, 92.54, 92.76,\n",
       "       92.75, 92.37, 92.78, 93.13, 92.85, 93.37, 93.19, 93.34, 93.36,\n",
       "       93.27, 93.45, 93.62, 93.72, 93.69, 93.63, 93.72, 93.58, 93.66,\n",
       "       93.61, 93.68, 93.68, 93.7 , 93.81, 93.74, 93.74, 93.76, 93.76,\n",
       "       93.75, 93.78])"
      ]
     },
     "execution_count": 77,
     "metadata": {},
     "output_type": "execute_result"
    }
   ],
   "source": [
    "print('test accuracy:', a['test_acc_array'][-1], b['test_acc_array'][-1], c['test_acc_array'][-1], '\\n')\n",
    "print('train loss:', a['train_loss_array'][-1], b['train_loss_array'][-1], c['train_loss_array'][-1])\n",
    "\n",
    "a['test_acc_array']"
   ]
  },
  {
   "cell_type": "code",
   "execution_count": 78,
   "metadata": {
    "scrolled": true
   },
   "outputs": [
    {
     "data": {
      "text/plain": [
       "VGG(\n",
       "  (features): Sequential(\n",
       "    (0): Conv2d(3, 64, kernel_size=(3, 3), stride=(1, 1), padding=(1, 1))\n",
       "    (1): BatchNorm2d(64, eps=1e-05, momentum=0.1, affine=True, track_running_stats=True)\n",
       "    (2): ReLU(inplace=True)\n",
       "    (3): Conv2d(64, 64, kernel_size=(3, 3), stride=(1, 1), padding=(1, 1))\n",
       "    (4): BatchNorm2d(64, eps=1e-05, momentum=0.1, affine=True, track_running_stats=True)\n",
       "    (5): ReLU(inplace=True)\n",
       "    (6): MaxPool2d(kernel_size=2, stride=2, padding=0, dilation=1, ceil_mode=False)\n",
       "    (7): Conv2d(64, 128, kernel_size=(3, 3), stride=(1, 1), padding=(1, 1))\n",
       "    (8): BatchNorm2d(128, eps=1e-05, momentum=0.1, affine=True, track_running_stats=True)\n",
       "    (9): ReLU(inplace=True)\n",
       "    (10): Conv2d(128, 128, kernel_size=(3, 3), stride=(1, 1), padding=(1, 1))\n",
       "    (11): BatchNorm2d(128, eps=1e-05, momentum=0.1, affine=True, track_running_stats=True)\n",
       "    (12): ReLU(inplace=True)\n",
       "    (13): MaxPool2d(kernel_size=2, stride=2, padding=0, dilation=1, ceil_mode=False)\n",
       "    (14): Conv2d(128, 256, kernel_size=(3, 3), stride=(1, 1), padding=(1, 1))\n",
       "    (15): BatchNorm2d(256, eps=1e-05, momentum=0.1, affine=True, track_running_stats=True)\n",
       "    (16): ReLU(inplace=True)\n",
       "    (17): Conv2d(256, 256, kernel_size=(3, 3), stride=(1, 1), padding=(1, 1))\n",
       "    (18): BatchNorm2d(256, eps=1e-05, momentum=0.1, affine=True, track_running_stats=True)\n",
       "    (19): ReLU(inplace=True)\n",
       "    (20): Conv2d(256, 256, kernel_size=(3, 3), stride=(1, 1), padding=(1, 1))\n",
       "    (21): BatchNorm2d(256, eps=1e-05, momentum=0.1, affine=True, track_running_stats=True)\n",
       "    (22): ReLU(inplace=True)\n",
       "    (23): Conv2d(256, 256, kernel_size=(3, 3), stride=(1, 1), padding=(1, 1))\n",
       "    (24): BatchNorm2d(256, eps=1e-05, momentum=0.1, affine=True, track_running_stats=True)\n",
       "    (25): ReLU(inplace=True)\n",
       "    (26): MaxPool2d(kernel_size=2, stride=2, padding=0, dilation=1, ceil_mode=False)\n",
       "    (27): Conv2d(256, 512, kernel_size=(3, 3), stride=(1, 1), padding=(1, 1))\n",
       "    (28): BatchNorm2d(512, eps=1e-05, momentum=0.1, affine=True, track_running_stats=True)\n",
       "    (29): ReLU(inplace=True)\n",
       "    (30): Conv2d(512, 512, kernel_size=(3, 3), stride=(1, 1), padding=(1, 1))\n",
       "    (31): BatchNorm2d(512, eps=1e-05, momentum=0.1, affine=True, track_running_stats=True)\n",
       "    (32): ReLU(inplace=True)\n",
       "    (33): Conv2d(512, 512, kernel_size=(3, 3), stride=(1, 1), padding=(1, 1))\n",
       "    (34): BatchNorm2d(512, eps=1e-05, momentum=0.1, affine=True, track_running_stats=True)\n",
       "    (35): ReLU(inplace=True)\n",
       "    (36): Conv2d(512, 512, kernel_size=(3, 3), stride=(1, 1), padding=(1, 1))\n",
       "    (37): BatchNorm2d(512, eps=1e-05, momentum=0.1, affine=True, track_running_stats=True)\n",
       "    (38): ReLU(inplace=True)\n",
       "    (39): MaxPool2d(kernel_size=2, stride=2, padding=0, dilation=1, ceil_mode=False)\n",
       "    (40): Conv2d(512, 512, kernel_size=(3, 3), stride=(1, 1), padding=(1, 1))\n",
       "    (41): BatchNorm2d(512, eps=1e-05, momentum=0.1, affine=True, track_running_stats=True)\n",
       "    (42): ReLU(inplace=True)\n",
       "    (43): Conv2d(512, 512, kernel_size=(3, 3), stride=(1, 1), padding=(1, 1))\n",
       "    (44): BatchNorm2d(512, eps=1e-05, momentum=0.1, affine=True, track_running_stats=True)\n",
       "    (45): ReLU(inplace=True)\n",
       "    (46): Conv2d(512, 512, kernel_size=(3, 3), stride=(1, 1), padding=(1, 1))\n",
       "    (47): BatchNorm2d(512, eps=1e-05, momentum=0.1, affine=True, track_running_stats=True)\n",
       "    (48): ReLU(inplace=True)\n",
       "    (49): Conv2d(512, 512, kernel_size=(3, 3), stride=(1, 1), padding=(1, 1))\n",
       "    (50): BatchNorm2d(512, eps=1e-05, momentum=0.1, affine=True, track_running_stats=True)\n",
       "    (51): ReLU(inplace=True)\n",
       "    (52): MaxPool2d(kernel_size=2, stride=2, padding=0, dilation=1, ceil_mode=False)\n",
       "    (53): AvgPool2d(kernel_size=1, stride=1, padding=0)\n",
       "  )\n",
       "  (classifier): Linear(in_features=512, out_features=10, bias=True)\n",
       ")"
      ]
     },
     "execution_count": 78,
     "metadata": {},
     "output_type": "execute_result"
    }
   ],
   "source": [
    "# Loading the nets\n",
    "\n",
    "net1 = VGG('VGG19')\n",
    "net1.load_state_dict(a['net'], strict=False)\n",
    "net1.eval()\n",
    "\n",
    "net2 = VGG('VGG19')\n",
    "net2.load_state_dict(b['net'], strict=False)\n",
    "net2.eval()\n",
    "\n",
    "net3 = VGG('VGG19')\n",
    "net3.load_state_dict(c['net'], strict=False)\n",
    "net3.eval()"
   ]
  },
  {
   "cell_type": "code",
   "execution_count": 79,
   "metadata": {},
   "outputs": [],
   "source": [
    "# # Loading the nets\n",
    "\n",
    "# net1 = Linear_mnist()\n",
    "# net1.load_state_dict(a['net'], strict=False)\n",
    "# net1.eval()\n",
    "\n",
    "# net2 = Linear_mnist()\n",
    "# net2.load_state_dict(aaa['net'], strict=False)\n",
    "# net2.eval()"
   ]
  },
  {
   "cell_type": "code",
   "execution_count": 80,
   "metadata": {},
   "outputs": [
    {
     "name": "stdout",
     "output_type": "stream",
     "text": [
      "Files already downloaded and verified\n",
      "the min entry in the example 0 is tensor(-2.4291)\n",
      "the max entry in the example 0 is tensor(0.8858)\n",
      "the min entry in the example 1 is tensor(-2.4291)\n",
      "the max entry in the example 1 is tensor(2.5141)\n",
      "the min entry in the example 2 is tensor(-2.4291)\n",
      "the max entry in the example 2 is tensor(2.3978)\n"
     ]
    },
    {
     "data": {
      "text/plain": [
       "torch.Size([1, 3, 32, 32])"
      ]
     },
     "execution_count": 80,
     "metadata": {},
     "output_type": "execute_result"
    },
    {
     "data": {
      "image/png": "[encoded data removed]",
      "text/plain": [
       "<Figure size 432x288 with 3 Axes>"
      ]
     },
     "metadata": {},
     "output_type": "display_data"
    }
   ],
   "source": [
    "# loading the data\n",
    "\n",
    "stats = ((0.4914, 0.4822, 0.4465), (0.2023, 0.1994, 0.2010))\n",
    "crop=32\n",
    "classes = ('plane', 'car', 'bird', 'cat', 'deer',\n",
    "           'dog', 'frog', 'horse', 'ship', 'truck')\n",
    "input_dim = [1,3,32,32]\n",
    "num_classes = 10\n",
    "\n",
    "transform_train = transforms.Compose([\n",
    "    transforms.RandomCrop(crop, padding=4),\n",
    "    transforms.RandomHorizontalFlip(),\n",
    "    transforms.ToTensor(),\n",
    "    transforms.Normalize(*stats),\n",
    "])\n",
    "\n",
    "trainset = torchvision.datasets.CIFAR10(\n",
    "    root='./data', train=True, download=True, transform=transform_train)\n",
    "trainloader = torch.utils.data.DataLoader(\n",
    "    trainset, 128, shuffle=True)\n",
    "\n",
    "# plot 6 examples of data point\n",
    "examples = enumerate(trainloader)\n",
    "batch_idx, (example_data, example_targets) = next(examples)\n",
    "example_data.shape\n",
    "\n",
    "for i in range(3):\n",
    "  print('the min entry in the example', i , 'is', torch.min(example_data[i][0]))\n",
    "  print('the max entry in the example', i , 'is', torch.max(example_data[i][0]))\n",
    "\n",
    "fig = plt.figure()\n",
    "for i in range(3):\n",
    "  plt.subplot(2,3,i+1)\n",
    "  plt.tight_layout()\n",
    "  plt.imshow(example_data[i][0], cmap='gray', interpolation='none')\n",
    "  plt.title(\"Ground Truth: {}\".format(example_targets[i]))\n",
    "  plt.xticks([])\n",
    "  plt.yticks([])\n",
    "fig\n",
    "\n",
    "example_data[0:1,:,:,:].size()"
   ]
  },
  {
   "cell_type": "code",
   "execution_count": 81,
   "metadata": {},
   "outputs": [],
   "source": [
    "# c = {} #the difference network\n",
    "# d = 0\n",
    "# for i in a['net']:\n",
    "#     c[i] = a['net'][i]-b['net'][i]\n",
    "#     d = d + (torch.norm(c[i].type(torch.FloatTensor)))**2\n",
    "\n",
    "# d\n",
    "\n",
    "# # net_diff = VGG('VGG19')\n",
    "# net_diff.load_state_dict(c, strict=False)\n",
    "# net_diff.eval()"
   ]
  },
  {
   "cell_type": "code",
   "execution_count": 82,
   "metadata": {},
   "outputs": [],
   "source": [
    "Jac_1 = {}\n",
    "Jac_2 = {}\n",
    "Jac_3 = {}\n",
    "# Jac_diff = {}\n",
    "\n",
    "for i in range(20):\n",
    "    Jac_1[i] = torch.autograd.functional.jacobian(net1, example_data[i:i+1,:,:,:], create_graph = True)\n",
    "    Jac_2[i] = torch.autograd.functional.jacobian(net2, example_data[i:i+1,:,:,:], create_graph = True)\n",
    "    Jac_3[i] = torch.autograd.functional.jacobian(net3, example_data[i:i+1,:,:,:], create_graph = True)\n",
    "#     Jac_diff[i] = torch.autograd.functional.jacobian(net_diff, example_data[i:i+1,:,:,:], create_graph = True)"
   ]
  },
  {
   "cell_type": "code",
   "execution_count": 83,
   "metadata": {},
   "outputs": [
    {
     "name": "stdout",
     "output_type": "stream",
     "text": [
      "on the datapoint 0 we have (1/2) tensor(1.1187, grad_fn=<DivBackward0>) \n",
      "\n",
      "on the datapoint 1 we have (1/2) tensor(1.0811, grad_fn=<DivBackward0>) \n",
      "\n",
      "on the datapoint 2 we have (1/2) tensor(1.0715, grad_fn=<DivBackward0>) \n",
      "\n",
      "on the datapoint 3 we have (1/2) tensor(1.0726, grad_fn=<DivBackward0>) \n",
      "\n",
      "on the datapoint 4 we have (1/2) tensor(1.1740, grad_fn=<DivBackward0>) \n",
      "\n",
      "on the datapoint 5 we have (1/2) tensor(1.0987, grad_fn=<DivBackward0>) \n",
      "\n",
      "on the datapoint 6 we have (1/2) tensor(1.1131, grad_fn=<DivBackward0>) \n",
      "\n",
      "on the datapoint 7 we have (1/2) tensor(1.0760, grad_fn=<DivBackward0>) \n",
      "\n",
      "on the datapoint 8 we have (1/2) tensor(1.2005, grad_fn=<DivBackward0>) \n",
      "\n",
      "on the datapoint 9 we have (1/2) tensor(1.1328, grad_fn=<DivBackward0>) \n",
      "\n",
      "on the datapoint 10 we have (1/2) tensor(1.1128, grad_fn=<DivBackward0>) \n",
      "\n",
      "on the datapoint 11 we have (1/2) tensor(1.0807, grad_fn=<DivBackward0>) \n",
      "\n",
      "on the datapoint 12 we have (1/2) tensor(1.0978, grad_fn=<DivBackward0>) \n",
      "\n",
      "on the datapoint 13 we have (1/2) tensor(1.0852, grad_fn=<DivBackward0>) \n",
      "\n",
      "on the datapoint 14 we have (1/2) tensor(1.2111, grad_fn=<DivBackward0>) \n",
      "\n",
      "on the datapoint 15 we have (1/2) tensor(1.1267, grad_fn=<DivBackward0>) \n",
      "\n",
      "on the datapoint 16 we have (1/2) tensor(1.2181, grad_fn=<DivBackward0>) \n",
      "\n",
      "on the datapoint 17 we have (1/2) tensor(1.1427, grad_fn=<DivBackward0>) \n",
      "\n",
      "on the datapoint 18 we have (1/2) tensor(1.1607, grad_fn=<DivBackward0>) \n",
      "\n",
      "on the datapoint 19 we have (1/2) tensor(1.1085, grad_fn=<DivBackward0>) \n",
      "\n",
      "on the datapoint 0 we have (1/3) tensor(0.8977, grad_fn=<DivBackward0>) \n",
      "\n",
      "on the datapoint 1 we have (1/3) tensor(0.9379, grad_fn=<DivBackward0>) \n",
      "\n",
      "on the datapoint 2 we have (1/3) tensor(0.8849, grad_fn=<DivBackward0>) \n",
      "\n",
      "on the datapoint 3 we have (1/3) tensor(0.9112, grad_fn=<DivBackward0>) \n",
      "\n",
      "on the datapoint 4 we have (1/3) tensor(0.9291, grad_fn=<DivBackward0>) \n",
      "\n",
      "on the datapoint 5 we have (1/3) tensor(0.9001, grad_fn=<DivBackward0>) \n",
      "\n",
      "on the datapoint 6 we have (1/3) tensor(0.9014, grad_fn=<DivBackward0>) \n",
      "\n",
      "on the datapoint 7 we have (1/3) tensor(0.9396, grad_fn=<DivBackward0>) \n",
      "\n",
      "on the datapoint 8 we have (1/3) tensor(0.9566, grad_fn=<DivBackward0>) \n",
      "\n",
      "on the datapoint 9 we have (1/3) tensor(0.9056, grad_fn=<DivBackward0>) \n",
      "\n",
      "on the datapoint 10 we have (1/3) tensor(0.9035, grad_fn=<DivBackward0>) \n",
      "\n",
      "on the datapoint 11 we have (1/3) tensor(0.9096, grad_fn=<DivBackward0>) \n",
      "\n",
      "on the datapoint 12 we have (1/3) tensor(0.9554, grad_fn=<DivBackward0>) \n",
      "\n",
      "on the datapoint 13 we have (1/3) tensor(0.9019, grad_fn=<DivBackward0>) \n",
      "\n",
      "on the datapoint 14 we have (1/3) tensor(0.9801, grad_fn=<DivBackward0>) \n",
      "\n",
      "on the datapoint 15 we have (1/3) tensor(0.9629, grad_fn=<DivBackward0>) \n",
      "\n",
      "on the datapoint 16 we have (1/3) tensor(0.9458, grad_fn=<DivBackward0>) \n",
      "\n",
      "on the datapoint 17 we have (1/3) tensor(0.9472, grad_fn=<DivBackward0>) \n",
      "\n",
      "on the datapoint 18 we have (1/3) tensor(0.9883, grad_fn=<DivBackward0>) \n",
      "\n",
      "on the datapoint 19 we have (1/3) tensor(0.9197, grad_fn=<DivBackward0>) \n",
      "\n"
     ]
    }
   ],
   "source": [
    "for i in range(20):\n",
    "#     print('on the datapoint', i, 'the Frobenius norm of the Jacobian of the SGD-trained net is:', torch.norm((Jac_1[i]), p='fro'), 'The one of the label noised:', torch.norm((Jac_2[i])))\n",
    "    print('on the datapoint', i, 'we have (1/2)', (torch.norm((Jac_1[i])) / torch.norm((Jac_2[i]))), '\\n')\n",
    "\n",
    "for i in range(20):\n",
    "    print('on the datapoint', i, 'we have (1/3)', (torch.norm((Jac_1[i])) / torch.norm((Jac_3[i]))), '\\n')\n",
    "    \n"
   ]
  },
  {
   "cell_type": "code",
   "execution_count": 84,
   "metadata": {},
   "outputs": [
    {
     "name": "stdout",
     "output_type": "stream",
     "text": [
      "on the datapoint 0 the difference of the two Jacobians is (1-2)/1 tensor(1.3328, grad_fn=<DivBackward0>)\n",
      "on the datapoint 1 the difference of the two Jacobians is (1-2)/1 tensor(1.3608, grad_fn=<DivBackward0>)\n",
      "on the datapoint 2 the difference of the two Jacobians is (1-2)/1 tensor(1.3705, grad_fn=<DivBackward0>)\n",
      "on the datapoint 3 the difference of the two Jacobians is (1-2)/1 tensor(1.3605, grad_fn=<DivBackward0>)\n",
      "on the datapoint 4 the difference of the two Jacobians is (1-2)/1 tensor(1.3152, grad_fn=<DivBackward0>)\n",
      "on the datapoint 5 the difference of the two Jacobians is (1-2)/1 tensor(1.3578, grad_fn=<DivBackward0>)\n",
      "on the datapoint 6 the difference of the two Jacobians is (1-2)/1 tensor(1.3414, grad_fn=<DivBackward0>)\n",
      "on the datapoint 7 the difference of the two Jacobians is (1-2)/1 tensor(1.3688, grad_fn=<DivBackward0>)\n",
      "on the datapoint 8 the difference of the two Jacobians is (1-2)/1 tensor(1.3000, grad_fn=<DivBackward0>)\n",
      "on the datapoint 9 the difference of the two Jacobians is (1-2)/1 tensor(1.3316, grad_fn=<DivBackward0>)\n",
      "on the datapoint 10 the difference of the two Jacobians is (1-2)/1 tensor(1.3474, grad_fn=<DivBackward0>)\n",
      "on the datapoint 11 the difference of the two Jacobians is (1-2)/1 tensor(1.3628, grad_fn=<DivBackward0>)\n",
      "on the datapoint 12 the difference of the two Jacobians is (1-2)/1 tensor(1.3544, grad_fn=<DivBackward0>)\n",
      "on the datapoint 13 the difference of the two Jacobians is (1-2)/1 tensor(1.3561, grad_fn=<DivBackward0>)\n",
      "on the datapoint 14 the difference of the two Jacobians is (1-2)/1 tensor(1.3025, grad_fn=<DivBackward0>)\n",
      "on the datapoint 15 the difference of the two Jacobians is (1-2)/1 tensor(1.3331, grad_fn=<DivBackward0>)\n",
      "on the datapoint 16 the difference of the two Jacobians is (1-2)/1 tensor(1.2976, grad_fn=<DivBackward0>)\n",
      "on the datapoint 17 the difference of the two Jacobians is (1-2)/1 tensor(1.3228, grad_fn=<DivBackward0>)\n",
      "on the datapoint 18 the difference of the two Jacobians is (1-2)/1 tensor(1.3178, grad_fn=<DivBackward0>)\n",
      "on the datapoint 19 the difference of the two Jacobians is (1-2)/1 tensor(1.3479, grad_fn=<DivBackward0>)\n",
      "on the datapoint 0 the difference of the two Jacobians is (1-3)/1 tensor(1.4909, grad_fn=<DivBackward0>)\n",
      "on the datapoint 1 the difference of the two Jacobians is (1-3)/1 tensor(1.4578, grad_fn=<DivBackward0>)\n",
      "on the datapoint 2 the difference of the two Jacobians is (1-3)/1 tensor(1.5080, grad_fn=<DivBackward0>)\n",
      "on the datapoint 3 the difference of the two Jacobians is (1-3)/1 tensor(1.4862, grad_fn=<DivBackward0>)\n",
      "on the datapoint 4 the difference of the two Jacobians is (1-3)/1 tensor(1.4692, grad_fn=<DivBackward0>)\n",
      "on the datapoint 5 the difference of the two Jacobians is (1-3)/1 tensor(1.4998, grad_fn=<DivBackward0>)\n",
      "on the datapoint 6 the difference of the two Jacobians is (1-3)/1 tensor(1.4932, grad_fn=<DivBackward0>)\n",
      "on the datapoint 7 the difference of the two Jacobians is (1-3)/1 tensor(1.4641, grad_fn=<DivBackward0>)\n",
      "on the datapoint 8 the difference of the two Jacobians is (1-3)/1 tensor(1.4494, grad_fn=<DivBackward0>)\n",
      "on the datapoint 9 the difference of the two Jacobians is (1-3)/1 tensor(1.4861, grad_fn=<DivBackward0>)\n",
      "on the datapoint 10 the difference of the two Jacobians is (1-3)/1 tensor(1.4893, grad_fn=<DivBackward0>)\n",
      "on the datapoint 11 the difference of the two Jacobians is (1-3)/1 tensor(1.4843, grad_fn=<DivBackward0>)\n",
      "on the datapoint 12 the difference of the two Jacobians is (1-3)/1 tensor(1.4433, grad_fn=<DivBackward0>)\n",
      "on the datapoint 13 the difference of the two Jacobians is (1-3)/1 tensor(1.4878, grad_fn=<DivBackward0>)\n",
      "on the datapoint 14 the difference of the two Jacobians is (1-3)/1 tensor(1.4324, grad_fn=<DivBackward0>)\n",
      "on the datapoint 15 the difference of the two Jacobians is (1-3)/1 tensor(1.4449, grad_fn=<DivBackward0>)\n",
      "on the datapoint 16 the difference of the two Jacobians is (1-3)/1 tensor(1.4622, grad_fn=<DivBackward0>)\n",
      "on the datapoint 17 the difference of the two Jacobians is (1-3)/1 tensor(1.4498, grad_fn=<DivBackward0>)\n",
      "on the datapoint 18 the difference of the two Jacobians is (1-3)/1 tensor(1.4145, grad_fn=<DivBackward0>)\n",
      "on the datapoint 19 the difference of the two Jacobians is (1-3)/1 tensor(1.4748, grad_fn=<DivBackward0>)\n"
     ]
    }
   ],
   "source": [
    "for i in range(20):\n",
    "#     print('on the datapoint', i, 'the Frobenius norm of the Jacobian of the SGD-trained net is:', torch.norm((Jac_1[i]), p='fro'), 'The one of the label noised:', torch.norm((Jac_2[i])))\n",
    "    print('on the datapoint', i, 'the difference of the two Jacobians is (1-2)/1', torch.norm(Jac_1[i]-Jac_2[i])/torch.norm(Jac_1[i]))\n",
    "#     print('on the datapoint', i, 'the difference of the two neural nets is', torch.norm(net_diff(example_data[i:i+1,:,:,:]))/torch.norm(net1(example_data[i:i+1,:,:,:])))\n",
    "\n",
    "for i in range(20):\n",
    "    print('on the datapoint', i, 'the difference of the two Jacobians is (1-3)/1', torch.norm(Jac_1[i]-Jac_3[i])/torch.norm(Jac_1[i]))\n"
   ]
  },
  {
   "cell_type": "code",
   "execution_count": 85,
   "metadata": {},
   "outputs": [
    {
     "name": "stdout",
     "output_type": "stream",
     "text": [
      "Files already downloaded and verified\n",
      "the min entry in the example 0 is tensor(-2.4291)\n",
      "the max entry in the example 0 is tensor(2.5141)\n",
      "the min entry in the example 1 is tensor(-2.4291)\n",
      "the max entry in the example 1 is tensor(2.5141)\n",
      "the min entry in the example 2 is tensor(-2.4291)\n",
      "the max entry in the example 2 is tensor(2.1264)\n"
     ]
    },
    {
     "data": {
      "image/png": "[encoded data removed]",
      "text/plain": [
       "<Figure size 432x288 with 3 Axes>"
      ]
     },
     "metadata": {},
     "output_type": "display_data"
    }
   ],
   "source": [
    "# loading the data - TEST\n",
    "\n",
    "\n",
    "testset = torchvision.datasets.CIFAR10(\n",
    "    root='./data', train=False, download=True, transform=transform_train)\n",
    "testloader = torch.utils.data.DataLoader(\n",
    "    testset, 128, shuffle=True)\n",
    "\n",
    "# plot 6 examples of data point\n",
    "examples = enumerate(testloader)\n",
    "batch_idx, (example_data, example_targets) = next(examples)\n",
    "example_data.shape\n",
    "\n",
    "for i in range(3):\n",
    "  print('the min entry in the example', i , 'is', torch.min(example_data[i][0]))\n",
    "  print('the max entry in the example', i , 'is', torch.max(example_data[i][0]))\n",
    "\n",
    "fig = plt.figure()\n",
    "for i in range(3):\n",
    "  plt.subplot(2,3,i+1)\n",
    "  plt.tight_layout()\n",
    "  plt.imshow(example_data[i][0], cmap='gray', interpolation='none')\n",
    "  plt.title(\"Ground Truth: {}\".format(example_targets[i]))\n",
    "  plt.xticks([])\n",
    "  plt.yticks([])\n",
    "fig\n",
    "\n",
    "example_data[0:1,:,:,:].size()\n",
    "\n",
    "\n",
    "Jac_4 = {}\n",
    "Jac_5 = {}\n",
    "Jac_6 = {}\n",
    "\n",
    "for i in range(20):\n",
    "    Jac_4[i] = torch.autograd.functional.jacobian(net1, example_data[i:i+1,:,:,:], create_graph = True)\n",
    "    Jac_5[i] = torch.autograd.functional.jacobian(net2, example_data[i:i+1,:,:,:], create_graph = True)\n",
    "    Jac_6[i] = torch.autograd.functional.jacobian(net3, example_data[i:i+1,:,:,:], create_graph = True)"
   ]
  },
  {
   "cell_type": "code",
   "execution_count": 86,
   "metadata": {},
   "outputs": [
    {
     "name": "stdout",
     "output_type": "stream",
     "text": [
      "on the datapoint 0 we have (1/2) tensor(1.0885, grad_fn=<DivBackward0>) \n",
      "\n",
      "on the datapoint 1 we have (1/2) tensor(1.0644, grad_fn=<DivBackward0>) \n",
      "\n",
      "on the datapoint 2 we have (1/2) tensor(1.1281, grad_fn=<DivBackward0>) \n",
      "\n",
      "on the datapoint 3 we have (1/2) tensor(1.1270, grad_fn=<DivBackward0>) \n",
      "\n",
      "on the datapoint 4 we have (1/2) tensor(1.1516, grad_fn=<DivBackward0>) \n",
      "\n",
      "on the datapoint 5 we have (1/2) tensor(1.1798, grad_fn=<DivBackward0>) \n",
      "\n",
      "on the datapoint 6 we have (1/2) tensor(1.1230, grad_fn=<DivBackward0>) \n",
      "\n",
      "on the datapoint 7 we have (1/2) tensor(1.1227, grad_fn=<DivBackward0>) \n",
      "\n",
      "on the datapoint 8 we have (1/2) tensor(1.1385, grad_fn=<DivBackward0>) \n",
      "\n",
      "on the datapoint 9 we have (1/2) tensor(1.0943, grad_fn=<DivBackward0>) \n",
      "\n",
      "on the datapoint 10 we have (1/2) tensor(1.1304, grad_fn=<DivBackward0>) \n",
      "\n",
      "on the datapoint 11 we have (1/2) tensor(1.1920, grad_fn=<DivBackward0>) \n",
      "\n",
      "on the datapoint 12 we have (1/2) tensor(1.1009, grad_fn=<DivBackward0>) \n",
      "\n",
      "on the datapoint 13 we have (1/2) tensor(1.1646, grad_fn=<DivBackward0>) \n",
      "\n",
      "on the datapoint 14 we have (1/2) tensor(1.1709, grad_fn=<DivBackward0>) \n",
      "\n",
      "on the datapoint 15 we have (1/2) tensor(1.0756, grad_fn=<DivBackward0>) \n",
      "\n",
      "on the datapoint 16 we have (1/2) tensor(1.0794, grad_fn=<DivBackward0>) \n",
      "\n",
      "on the datapoint 17 we have (1/2) tensor(1.1113, grad_fn=<DivBackward0>) \n",
      "\n",
      "on the datapoint 18 we have (1/2) tensor(1.1163, grad_fn=<DivBackward0>) \n",
      "\n",
      "on the datapoint 19 we have (1/2) tensor(1.1009, grad_fn=<DivBackward0>) \n",
      "\n",
      "on the datapoint 0 we have (1/3) tensor(0.9279, grad_fn=<DivBackward0>) \n",
      "\n",
      "on the datapoint 1 we have (1/3) tensor(0.9071, grad_fn=<DivBackward0>) \n",
      "\n",
      "on the datapoint 2 we have (1/3) tensor(0.9136, grad_fn=<DivBackward0>) \n",
      "\n",
      "on the datapoint 3 we have (1/3) tensor(0.9460, grad_fn=<DivBackward0>) \n",
      "\n",
      "on the datapoint 4 we have (1/3) tensor(0.9321, grad_fn=<DivBackward0>) \n",
      "\n",
      "on the datapoint 5 we have (1/3) tensor(0.9339, grad_fn=<DivBackward0>) \n",
      "\n",
      "on the datapoint 6 we have (1/3) tensor(0.9093, grad_fn=<DivBackward0>) \n",
      "\n",
      "on the datapoint 7 we have (1/3) tensor(0.9492, grad_fn=<DivBackward0>) \n",
      "\n",
      "on the datapoint 8 we have (1/3) tensor(0.9090, grad_fn=<DivBackward0>) \n",
      "\n",
      "on the datapoint 9 we have (1/3) tensor(0.9402, grad_fn=<DivBackward0>) \n",
      "\n",
      "on the datapoint 10 we have (1/3) tensor(0.9535, grad_fn=<DivBackward0>) \n",
      "\n",
      "on the datapoint 11 we have (1/3) tensor(0.9626, grad_fn=<DivBackward0>) \n",
      "\n",
      "on the datapoint 12 we have (1/3) tensor(0.9371, grad_fn=<DivBackward0>) \n",
      "\n",
      "on the datapoint 13 we have (1/3) tensor(0.9095, grad_fn=<DivBackward0>) \n",
      "\n",
      "on the datapoint 14 we have (1/3) tensor(0.9494, grad_fn=<DivBackward0>) \n",
      "\n",
      "on the datapoint 15 we have (1/3) tensor(0.8913, grad_fn=<DivBackward0>) \n",
      "\n",
      "on the datapoint 16 we have (1/3) tensor(0.9236, grad_fn=<DivBackward0>) \n",
      "\n",
      "on the datapoint 17 we have (1/3) tensor(0.9239, grad_fn=<DivBackward0>) \n",
      "\n",
      "on the datapoint 18 we have (1/3) tensor(0.9370, grad_fn=<DivBackward0>) \n",
      "\n",
      "on the datapoint 19 we have (1/3) tensor(0.9333, grad_fn=<DivBackward0>) \n",
      "\n"
     ]
    }
   ],
   "source": [
    "\n",
    "for i in range(20):\n",
    "#     print('on the datapoint', i, 'the Frobenius norm of the Jacobian of the SGD-trained net is:', torch.norm((Jac_1[i]), p='fro'), 'The one of the label noised:', torch.norm((Jac_2[i])))\n",
    "    print('on the datapoint', i, 'we have (1/2)', (torch.norm((Jac_4[i])) / torch.norm((Jac_5[i]))), '\\n')\n",
    "\n",
    "for i in range(20):\n",
    "    print('on the datapoint', i, 'we have (1/3)', (torch.norm((Jac_4[i])) / torch.norm((Jac_6[i]))), '\\n')\n",
    "    \n"
   ]
  },
  {
   "cell_type": "code",
   "execution_count": null,
   "metadata": {},
   "outputs": [],
   "source": []
  },
  {
   "cell_type": "code",
   "execution_count": null,
   "metadata": {},
   "outputs": [],
   "source": []
  },
  {
   "cell_type": "code",
   "execution_count": null,
   "metadata": {},
   "outputs": [],
   "source": []
  },
  {
   "cell_type": "code",
   "execution_count": null,
   "metadata": {},
   "outputs": [],
   "source": []
  },
  {
   "cell_type": "code",
   "execution_count": null,
   "metadata": {},
   "outputs": [],
   "source": []
  }
 ],
 "metadata": {
  "kernelspec": {
   "display_name": "Python 3",
   "language": "python",
   "name": "python3"
  },
  "language_info": {
   "codemirror_mode": {
    "name": "ipython",
    "version": 3
   },
   "file_extension": ".py",
   "mimetype": "text/x-python",
   "name": "python",
   "nbconvert_exporter": "python",
   "pygments_lexer": "ipython3",
   "version": "3.8.3"
  }
 },
 "nbformat": 4,
 "nbformat_minor": 4
}
